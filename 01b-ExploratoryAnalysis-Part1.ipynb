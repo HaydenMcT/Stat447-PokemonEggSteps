{
 "cells": [
  {
   "cell_type": "markdown",
   "metadata": {},
   "source": [
    "# CODE FILE 01b - Exploratory Analysis Pt. 1\n",
    "#### Given the manually processed Pokemon dataset, performs data cleaning, feature conversion, and data splitting into train and validation sets, and makes 2 new .csv files of each of these two new sets.\n",
    "<br>"
   ]
  },
  {
   "cell_type": "markdown",
   "metadata": {},
   "source": [
    "### STEP 1: Importing data and libraries"
   ]
  },
  {
   "cell_type": "code",
   "execution_count": 1,
   "metadata": {},
   "outputs": [],
   "source": [
    "import numpy as np\n",
    "import pandas as pd"
   ]
  },
  {
   "cell_type": "code",
   "execution_count": 2,
   "metadata": {},
   "outputs": [],
   "source": [
    "import matplotlib.pyplot as plt\n",
    "from matplotlib import pyplot\n",
    "import seaborn as sns\n",
    "sns.set_style('whitegrid')\n",
    "%matplotlib inline\n",
    "from IPython.display import display"
   ]
  },
  {
   "cell_type": "code",
   "execution_count": 3,
   "metadata": {},
   "outputs": [],
   "source": [
    "df = pd.read_csv('pokemon_boolean_types_and_manual_preprocessing.csv')\n",
    "\n",
    "pd.options.display.max_columns = None"
   ]
  },
  {
   "cell_type": "markdown",
   "metadata": {},
   "source": [
    "For consistency with actual pokemon type names, we must rename one column:"
   ]
  },
  {
   "cell_type": "code",
   "execution_count": 4,
   "metadata": {},
   "outputs": [],
   "source": [
    "df = df.rename(columns={\"against_fight\": \"against_fighting\"})"
   ]
  },
  {
   "cell_type": "markdown",
   "metadata": {},
   "source": [
    "Viewing the dataframe:"
   ]
  },
  {
   "cell_type": "code",
   "execution_count": 5,
   "metadata": {},
   "outputs": [
    {
     "name": "stdout",
     "output_type": "stream",
     "text": [
      "<class 'pandas.core.frame.DataFrame'>\n",
      "RangeIndex: 801 entries, 0 to 800\n",
      "Data columns (total 61 columns):\n",
      " #   Column             Non-Null Count  Dtype  \n",
      "---  ------             --------------  -----  \n",
      " 0   Unnamed: 0         801 non-null    int64  \n",
      " 1   abilities          801 non-null    object \n",
      " 2   against_bug        801 non-null    float64\n",
      " 3   against_dark       801 non-null    float64\n",
      " 4   against_dragon     801 non-null    float64\n",
      " 5   against_electric   801 non-null    float64\n",
      " 6   against_fairy      801 non-null    float64\n",
      " 7   against_fighting   801 non-null    float64\n",
      " 8   against_fire       801 non-null    float64\n",
      " 9   against_flying     801 non-null    float64\n",
      " 10  against_ghost      801 non-null    float64\n",
      " 11  against_grass      801 non-null    float64\n",
      " 12  against_ground     801 non-null    float64\n",
      " 13  against_ice        801 non-null    float64\n",
      " 14  against_normal     801 non-null    float64\n",
      " 15  against_poison     801 non-null    float64\n",
      " 16  against_psychic    801 non-null    float64\n",
      " 17  against_rock       801 non-null    float64\n",
      " 18  against_steel      801 non-null    float64\n",
      " 19  against_water      801 non-null    float64\n",
      " 20  attack             801 non-null    int64  \n",
      " 21  base_egg_steps     801 non-null    int64  \n",
      " 22  base_happiness     801 non-null    int64  \n",
      " 23  base_total         801 non-null    int64  \n",
      " 24  capture_rate       801 non-null    object \n",
      " 25  classfication      801 non-null    object \n",
      " 26  defense            801 non-null    int64  \n",
      " 27  experience_growth  801 non-null    int64  \n",
      " 28  height_m           801 non-null    object \n",
      " 29  hp                 801 non-null    int64  \n",
      " 30  japanese_name      801 non-null    object \n",
      " 31  name               801 non-null    object \n",
      " 32  EvoChain           801 non-null    int64  \n",
      " 33  can_hatch          801 non-null    bool   \n",
      " 34  percentage_male    703 non-null    float64\n",
      " 35  pokedex_number     801 non-null    int64  \n",
      " 36  sp_attack          801 non-null    int64  \n",
      " 37  sp_defense         801 non-null    int64  \n",
      " 38  speed              801 non-null    int64  \n",
      " 39  weight_kg          801 non-null    object \n",
      " 40  generation         801 non-null    int64  \n",
      " 41  is_legendary       801 non-null    int64  \n",
      " 42  is_fire_type       801 non-null    bool   \n",
      " 43  is_water_type      801 non-null    bool   \n",
      " 44  is_grass_type      801 non-null    bool   \n",
      " 45  is_electric_type   801 non-null    bool   \n",
      " 46  is_ground_type     801 non-null    bool   \n",
      " 47  is_bug_type        801 non-null    bool   \n",
      " 48  is_normal_type     801 non-null    bool   \n",
      " 49  is_ice_type        801 non-null    bool   \n",
      " 50  is_flying_type     801 non-null    bool   \n",
      " 51  is_poison_type     801 non-null    bool   \n",
      " 52  is_fighting_type   801 non-null    bool   \n",
      " 53  is_rock_type       801 non-null    bool   \n",
      " 54  is_steel_type      801 non-null    bool   \n",
      " 55  is_fairy_type      801 non-null    bool   \n",
      " 56  is_dark_type       801 non-null    bool   \n",
      " 57  is_ghost_type      801 non-null    bool   \n",
      " 58  is_dragon_type     801 non-null    bool   \n",
      " 59  is_psychic_type    801 non-null    bool   \n",
      " 60  pure_type          801 non-null    bool   \n",
      "dtypes: bool(20), float64(19), int64(15), object(7)\n",
      "memory usage: 272.3+ KB\n"
     ]
    }
   ],
   "source": [
    "df.info()"
   ]
  },
  {
   "cell_type": "code",
   "execution_count": 6,
   "metadata": {},
   "outputs": [
    {
     "data": {
      "text/html": [
       "<div>\n",
       "<style scoped>\n",
       "    .dataframe tbody tr th:only-of-type {\n",
       "        vertical-align: middle;\n",
       "    }\n",
       "\n",
       "    .dataframe tbody tr th {\n",
       "        vertical-align: top;\n",
       "    }\n",
       "\n",
       "    .dataframe thead th {\n",
       "        text-align: right;\n",
       "    }\n",
       "</style>\n",
       "<table border=\"1\" class=\"dataframe\">\n",
       "  <thead>\n",
       "    <tr style=\"text-align: right;\">\n",
       "      <th></th>\n",
       "      <th>Unnamed: 0</th>\n",
       "      <th>abilities</th>\n",
       "      <th>against_bug</th>\n",
       "      <th>against_dark</th>\n",
       "      <th>against_dragon</th>\n",
       "      <th>against_electric</th>\n",
       "      <th>against_fairy</th>\n",
       "      <th>against_fighting</th>\n",
       "      <th>against_fire</th>\n",
       "      <th>against_flying</th>\n",
       "      <th>against_ghost</th>\n",
       "      <th>against_grass</th>\n",
       "      <th>against_ground</th>\n",
       "      <th>against_ice</th>\n",
       "      <th>against_normal</th>\n",
       "      <th>against_poison</th>\n",
       "      <th>against_psychic</th>\n",
       "      <th>against_rock</th>\n",
       "      <th>against_steel</th>\n",
       "      <th>against_water</th>\n",
       "      <th>attack</th>\n",
       "      <th>base_egg_steps</th>\n",
       "      <th>base_happiness</th>\n",
       "      <th>base_total</th>\n",
       "      <th>capture_rate</th>\n",
       "      <th>classfication</th>\n",
       "      <th>defense</th>\n",
       "      <th>experience_growth</th>\n",
       "      <th>height_m</th>\n",
       "      <th>hp</th>\n",
       "      <th>japanese_name</th>\n",
       "      <th>name</th>\n",
       "      <th>EvoChain</th>\n",
       "      <th>can_hatch</th>\n",
       "      <th>percentage_male</th>\n",
       "      <th>pokedex_number</th>\n",
       "      <th>sp_attack</th>\n",
       "      <th>sp_defense</th>\n",
       "      <th>speed</th>\n",
       "      <th>weight_kg</th>\n",
       "      <th>generation</th>\n",
       "      <th>is_legendary</th>\n",
       "      <th>is_fire_type</th>\n",
       "      <th>is_water_type</th>\n",
       "      <th>is_grass_type</th>\n",
       "      <th>is_electric_type</th>\n",
       "      <th>is_ground_type</th>\n",
       "      <th>is_bug_type</th>\n",
       "      <th>is_normal_type</th>\n",
       "      <th>is_ice_type</th>\n",
       "      <th>is_flying_type</th>\n",
       "      <th>is_poison_type</th>\n",
       "      <th>is_fighting_type</th>\n",
       "      <th>is_rock_type</th>\n",
       "      <th>is_steel_type</th>\n",
       "      <th>is_fairy_type</th>\n",
       "      <th>is_dark_type</th>\n",
       "      <th>is_ghost_type</th>\n",
       "      <th>is_dragon_type</th>\n",
       "      <th>is_psychic_type</th>\n",
       "      <th>pure_type</th>\n",
       "    </tr>\n",
       "  </thead>\n",
       "  <tbody>\n",
       "    <tr>\n",
       "      <th>0</th>\n",
       "      <td>0</td>\n",
       "      <td>['Overgrow', 'Chlorophyll']</td>\n",
       "      <td>1.0</td>\n",
       "      <td>1.0</td>\n",
       "      <td>1.0</td>\n",
       "      <td>0.5</td>\n",
       "      <td>0.5</td>\n",
       "      <td>0.5</td>\n",
       "      <td>2.0</td>\n",
       "      <td>2.0</td>\n",
       "      <td>1.0</td>\n",
       "      <td>0.25</td>\n",
       "      <td>1.0</td>\n",
       "      <td>2.0</td>\n",
       "      <td>1.0</td>\n",
       "      <td>1.0</td>\n",
       "      <td>2.0</td>\n",
       "      <td>1.0</td>\n",
       "      <td>1.0</td>\n",
       "      <td>0.5</td>\n",
       "      <td>49</td>\n",
       "      <td>5120</td>\n",
       "      <td>70</td>\n",
       "      <td>318</td>\n",
       "      <td>45</td>\n",
       "      <td>Seed Pokémon</td>\n",
       "      <td>49</td>\n",
       "      <td>1059860</td>\n",
       "      <td>0.7</td>\n",
       "      <td>45</td>\n",
       "      <td>Fushigidaneフシギダネ</td>\n",
       "      <td>Bulbasaur</td>\n",
       "      <td>1</td>\n",
       "      <td>True</td>\n",
       "      <td>88.1</td>\n",
       "      <td>1</td>\n",
       "      <td>65</td>\n",
       "      <td>65</td>\n",
       "      <td>45</td>\n",
       "      <td>6.9</td>\n",
       "      <td>1</td>\n",
       "      <td>0</td>\n",
       "      <td>False</td>\n",
       "      <td>False</td>\n",
       "      <td>True</td>\n",
       "      <td>False</td>\n",
       "      <td>False</td>\n",
       "      <td>False</td>\n",
       "      <td>False</td>\n",
       "      <td>False</td>\n",
       "      <td>False</td>\n",
       "      <td>True</td>\n",
       "      <td>False</td>\n",
       "      <td>False</td>\n",
       "      <td>False</td>\n",
       "      <td>False</td>\n",
       "      <td>False</td>\n",
       "      <td>False</td>\n",
       "      <td>False</td>\n",
       "      <td>False</td>\n",
       "      <td>False</td>\n",
       "    </tr>\n",
       "    <tr>\n",
       "      <th>1</th>\n",
       "      <td>1</td>\n",
       "      <td>['Overgrow', 'Chlorophyll']</td>\n",
       "      <td>1.0</td>\n",
       "      <td>1.0</td>\n",
       "      <td>1.0</td>\n",
       "      <td>0.5</td>\n",
       "      <td>0.5</td>\n",
       "      <td>0.5</td>\n",
       "      <td>2.0</td>\n",
       "      <td>2.0</td>\n",
       "      <td>1.0</td>\n",
       "      <td>0.25</td>\n",
       "      <td>1.0</td>\n",
       "      <td>2.0</td>\n",
       "      <td>1.0</td>\n",
       "      <td>1.0</td>\n",
       "      <td>2.0</td>\n",
       "      <td>1.0</td>\n",
       "      <td>1.0</td>\n",
       "      <td>0.5</td>\n",
       "      <td>62</td>\n",
       "      <td>5120</td>\n",
       "      <td>70</td>\n",
       "      <td>405</td>\n",
       "      <td>45</td>\n",
       "      <td>Seed Pokémon</td>\n",
       "      <td>63</td>\n",
       "      <td>1059860</td>\n",
       "      <td>1</td>\n",
       "      <td>60</td>\n",
       "      <td>Fushigisouフシギソウ</td>\n",
       "      <td>Ivysaur</td>\n",
       "      <td>1</td>\n",
       "      <td>False</td>\n",
       "      <td>88.1</td>\n",
       "      <td>2</td>\n",
       "      <td>80</td>\n",
       "      <td>80</td>\n",
       "      <td>60</td>\n",
       "      <td>13</td>\n",
       "      <td>1</td>\n",
       "      <td>0</td>\n",
       "      <td>False</td>\n",
       "      <td>False</td>\n",
       "      <td>True</td>\n",
       "      <td>False</td>\n",
       "      <td>False</td>\n",
       "      <td>False</td>\n",
       "      <td>False</td>\n",
       "      <td>False</td>\n",
       "      <td>False</td>\n",
       "      <td>True</td>\n",
       "      <td>False</td>\n",
       "      <td>False</td>\n",
       "      <td>False</td>\n",
       "      <td>False</td>\n",
       "      <td>False</td>\n",
       "      <td>False</td>\n",
       "      <td>False</td>\n",
       "      <td>False</td>\n",
       "      <td>False</td>\n",
       "    </tr>\n",
       "    <tr>\n",
       "      <th>2</th>\n",
       "      <td>2</td>\n",
       "      <td>['Overgrow', 'Chlorophyll']</td>\n",
       "      <td>1.0</td>\n",
       "      <td>1.0</td>\n",
       "      <td>1.0</td>\n",
       "      <td>0.5</td>\n",
       "      <td>0.5</td>\n",
       "      <td>0.5</td>\n",
       "      <td>2.0</td>\n",
       "      <td>2.0</td>\n",
       "      <td>1.0</td>\n",
       "      <td>0.25</td>\n",
       "      <td>1.0</td>\n",
       "      <td>2.0</td>\n",
       "      <td>1.0</td>\n",
       "      <td>1.0</td>\n",
       "      <td>2.0</td>\n",
       "      <td>1.0</td>\n",
       "      <td>1.0</td>\n",
       "      <td>0.5</td>\n",
       "      <td>100</td>\n",
       "      <td>5120</td>\n",
       "      <td>70</td>\n",
       "      <td>625</td>\n",
       "      <td>45</td>\n",
       "      <td>Seed Pokémon</td>\n",
       "      <td>123</td>\n",
       "      <td>1059860</td>\n",
       "      <td>2</td>\n",
       "      <td>80</td>\n",
       "      <td>Fushigibanaフシギバナ</td>\n",
       "      <td>Venusaur</td>\n",
       "      <td>1</td>\n",
       "      <td>False</td>\n",
       "      <td>88.1</td>\n",
       "      <td>3</td>\n",
       "      <td>122</td>\n",
       "      <td>120</td>\n",
       "      <td>80</td>\n",
       "      <td>100</td>\n",
       "      <td>1</td>\n",
       "      <td>0</td>\n",
       "      <td>False</td>\n",
       "      <td>False</td>\n",
       "      <td>True</td>\n",
       "      <td>False</td>\n",
       "      <td>False</td>\n",
       "      <td>False</td>\n",
       "      <td>False</td>\n",
       "      <td>False</td>\n",
       "      <td>False</td>\n",
       "      <td>True</td>\n",
       "      <td>False</td>\n",
       "      <td>False</td>\n",
       "      <td>False</td>\n",
       "      <td>False</td>\n",
       "      <td>False</td>\n",
       "      <td>False</td>\n",
       "      <td>False</td>\n",
       "      <td>False</td>\n",
       "      <td>False</td>\n",
       "    </tr>\n",
       "    <tr>\n",
       "      <th>3</th>\n",
       "      <td>3</td>\n",
       "      <td>['Blaze', 'Solar Power']</td>\n",
       "      <td>0.5</td>\n",
       "      <td>1.0</td>\n",
       "      <td>1.0</td>\n",
       "      <td>1.0</td>\n",
       "      <td>0.5</td>\n",
       "      <td>1.0</td>\n",
       "      <td>0.5</td>\n",
       "      <td>1.0</td>\n",
       "      <td>1.0</td>\n",
       "      <td>0.50</td>\n",
       "      <td>2.0</td>\n",
       "      <td>0.5</td>\n",
       "      <td>1.0</td>\n",
       "      <td>1.0</td>\n",
       "      <td>1.0</td>\n",
       "      <td>2.0</td>\n",
       "      <td>0.5</td>\n",
       "      <td>2.0</td>\n",
       "      <td>52</td>\n",
       "      <td>5120</td>\n",
       "      <td>70</td>\n",
       "      <td>309</td>\n",
       "      <td>45</td>\n",
       "      <td>Lizard Pokémon</td>\n",
       "      <td>43</td>\n",
       "      <td>1059860</td>\n",
       "      <td>0.6</td>\n",
       "      <td>39</td>\n",
       "      <td>Hitokageヒトカゲ</td>\n",
       "      <td>Charmander</td>\n",
       "      <td>2</td>\n",
       "      <td>True</td>\n",
       "      <td>88.1</td>\n",
       "      <td>4</td>\n",
       "      <td>60</td>\n",
       "      <td>50</td>\n",
       "      <td>65</td>\n",
       "      <td>8.5</td>\n",
       "      <td>1</td>\n",
       "      <td>0</td>\n",
       "      <td>True</td>\n",
       "      <td>False</td>\n",
       "      <td>False</td>\n",
       "      <td>False</td>\n",
       "      <td>False</td>\n",
       "      <td>False</td>\n",
       "      <td>False</td>\n",
       "      <td>False</td>\n",
       "      <td>False</td>\n",
       "      <td>False</td>\n",
       "      <td>False</td>\n",
       "      <td>False</td>\n",
       "      <td>False</td>\n",
       "      <td>False</td>\n",
       "      <td>False</td>\n",
       "      <td>False</td>\n",
       "      <td>False</td>\n",
       "      <td>False</td>\n",
       "      <td>True</td>\n",
       "    </tr>\n",
       "    <tr>\n",
       "      <th>4</th>\n",
       "      <td>4</td>\n",
       "      <td>['Blaze', 'Solar Power']</td>\n",
       "      <td>0.5</td>\n",
       "      <td>1.0</td>\n",
       "      <td>1.0</td>\n",
       "      <td>1.0</td>\n",
       "      <td>0.5</td>\n",
       "      <td>1.0</td>\n",
       "      <td>0.5</td>\n",
       "      <td>1.0</td>\n",
       "      <td>1.0</td>\n",
       "      <td>0.50</td>\n",
       "      <td>2.0</td>\n",
       "      <td>0.5</td>\n",
       "      <td>1.0</td>\n",
       "      <td>1.0</td>\n",
       "      <td>1.0</td>\n",
       "      <td>2.0</td>\n",
       "      <td>0.5</td>\n",
       "      <td>2.0</td>\n",
       "      <td>64</td>\n",
       "      <td>5120</td>\n",
       "      <td>70</td>\n",
       "      <td>405</td>\n",
       "      <td>45</td>\n",
       "      <td>Flame Pokémon</td>\n",
       "      <td>58</td>\n",
       "      <td>1059860</td>\n",
       "      <td>1.1</td>\n",
       "      <td>58</td>\n",
       "      <td>Lizardoリザード</td>\n",
       "      <td>Charmeleon</td>\n",
       "      <td>2</td>\n",
       "      <td>False</td>\n",
       "      <td>88.1</td>\n",
       "      <td>5</td>\n",
       "      <td>80</td>\n",
       "      <td>65</td>\n",
       "      <td>80</td>\n",
       "      <td>19</td>\n",
       "      <td>1</td>\n",
       "      <td>0</td>\n",
       "      <td>True</td>\n",
       "      <td>False</td>\n",
       "      <td>False</td>\n",
       "      <td>False</td>\n",
       "      <td>False</td>\n",
       "      <td>False</td>\n",
       "      <td>False</td>\n",
       "      <td>False</td>\n",
       "      <td>False</td>\n",
       "      <td>False</td>\n",
       "      <td>False</td>\n",
       "      <td>False</td>\n",
       "      <td>False</td>\n",
       "      <td>False</td>\n",
       "      <td>False</td>\n",
       "      <td>False</td>\n",
       "      <td>False</td>\n",
       "      <td>False</td>\n",
       "      <td>True</td>\n",
       "    </tr>\n",
       "  </tbody>\n",
       "</table>\n",
       "</div>"
      ],
      "text/plain": [
       "   Unnamed: 0                    abilities  against_bug  against_dark  \\\n",
       "0           0  ['Overgrow', 'Chlorophyll']          1.0           1.0   \n",
       "1           1  ['Overgrow', 'Chlorophyll']          1.0           1.0   \n",
       "2           2  ['Overgrow', 'Chlorophyll']          1.0           1.0   \n",
       "3           3     ['Blaze', 'Solar Power']          0.5           1.0   \n",
       "4           4     ['Blaze', 'Solar Power']          0.5           1.0   \n",
       "\n",
       "   against_dragon  against_electric  against_fairy  against_fighting  \\\n",
       "0             1.0               0.5            0.5               0.5   \n",
       "1             1.0               0.5            0.5               0.5   \n",
       "2             1.0               0.5            0.5               0.5   \n",
       "3             1.0               1.0            0.5               1.0   \n",
       "4             1.0               1.0            0.5               1.0   \n",
       "\n",
       "   against_fire  against_flying  against_ghost  against_grass  against_ground  \\\n",
       "0           2.0             2.0            1.0           0.25             1.0   \n",
       "1           2.0             2.0            1.0           0.25             1.0   \n",
       "2           2.0             2.0            1.0           0.25             1.0   \n",
       "3           0.5             1.0            1.0           0.50             2.0   \n",
       "4           0.5             1.0            1.0           0.50             2.0   \n",
       "\n",
       "   against_ice  against_normal  against_poison  against_psychic  against_rock  \\\n",
       "0          2.0             1.0             1.0              2.0           1.0   \n",
       "1          2.0             1.0             1.0              2.0           1.0   \n",
       "2          2.0             1.0             1.0              2.0           1.0   \n",
       "3          0.5             1.0             1.0              1.0           2.0   \n",
       "4          0.5             1.0             1.0              1.0           2.0   \n",
       "\n",
       "   against_steel  against_water  attack  base_egg_steps  base_happiness  \\\n",
       "0            1.0            0.5      49            5120              70   \n",
       "1            1.0            0.5      62            5120              70   \n",
       "2            1.0            0.5     100            5120              70   \n",
       "3            0.5            2.0      52            5120              70   \n",
       "4            0.5            2.0      64            5120              70   \n",
       "\n",
       "   base_total capture_rate   classfication  defense  experience_growth  \\\n",
       "0         318           45    Seed Pokémon       49            1059860   \n",
       "1         405           45    Seed Pokémon       63            1059860   \n",
       "2         625           45    Seed Pokémon      123            1059860   \n",
       "3         309           45  Lizard Pokémon       43            1059860   \n",
       "4         405           45   Flame Pokémon       58            1059860   \n",
       "\n",
       "  height_m  hp     japanese_name        name  EvoChain  can_hatch  \\\n",
       "0      0.7  45  Fushigidaneフシギダネ   Bulbasaur         1       True   \n",
       "1        1  60   Fushigisouフシギソウ     Ivysaur         1      False   \n",
       "2        2  80  Fushigibanaフシギバナ    Venusaur         1      False   \n",
       "3      0.6  39      Hitokageヒトカゲ  Charmander         2       True   \n",
       "4      1.1  58       Lizardoリザード  Charmeleon         2      False   \n",
       "\n",
       "   percentage_male  pokedex_number  sp_attack  sp_defense  speed weight_kg  \\\n",
       "0             88.1               1         65          65     45       6.9   \n",
       "1             88.1               2         80          80     60        13   \n",
       "2             88.1               3        122         120     80       100   \n",
       "3             88.1               4         60          50     65       8.5   \n",
       "4             88.1               5         80          65     80        19   \n",
       "\n",
       "   generation  is_legendary  is_fire_type  is_water_type  is_grass_type  \\\n",
       "0           1             0         False          False           True   \n",
       "1           1             0         False          False           True   \n",
       "2           1             0         False          False           True   \n",
       "3           1             0          True          False          False   \n",
       "4           1             0          True          False          False   \n",
       "\n",
       "   is_electric_type  is_ground_type  is_bug_type  is_normal_type  is_ice_type  \\\n",
       "0             False           False        False           False        False   \n",
       "1             False           False        False           False        False   \n",
       "2             False           False        False           False        False   \n",
       "3             False           False        False           False        False   \n",
       "4             False           False        False           False        False   \n",
       "\n",
       "   is_flying_type  is_poison_type  is_fighting_type  is_rock_type  \\\n",
       "0           False            True             False         False   \n",
       "1           False            True             False         False   \n",
       "2           False            True             False         False   \n",
       "3           False           False             False         False   \n",
       "4           False           False             False         False   \n",
       "\n",
       "   is_steel_type  is_fairy_type  is_dark_type  is_ghost_type  is_dragon_type  \\\n",
       "0          False          False         False          False           False   \n",
       "1          False          False         False          False           False   \n",
       "2          False          False         False          False           False   \n",
       "3          False          False         False          False           False   \n",
       "4          False          False         False          False           False   \n",
       "\n",
       "   is_psychic_type  pure_type  \n",
       "0            False      False  \n",
       "1            False      False  \n",
       "2            False      False  \n",
       "3            False       True  \n",
       "4            False       True  "
      ]
     },
     "execution_count": 6,
     "metadata": {},
     "output_type": "execute_result"
    }
   ],
   "source": [
    "df.head(5)"
   ]
  },
  {
   "cell_type": "code",
   "execution_count": 7,
   "metadata": {},
   "outputs": [
    {
     "data": {
      "text/html": [
       "<div>\n",
       "<style scoped>\n",
       "    .dataframe tbody tr th:only-of-type {\n",
       "        vertical-align: middle;\n",
       "    }\n",
       "\n",
       "    .dataframe tbody tr th {\n",
       "        vertical-align: top;\n",
       "    }\n",
       "\n",
       "    .dataframe thead th {\n",
       "        text-align: right;\n",
       "    }\n",
       "</style>\n",
       "<table border=\"1\" class=\"dataframe\">\n",
       "  <thead>\n",
       "    <tr style=\"text-align: right;\">\n",
       "      <th></th>\n",
       "      <th>Unnamed: 0</th>\n",
       "      <th>against_bug</th>\n",
       "      <th>against_dark</th>\n",
       "      <th>against_dragon</th>\n",
       "      <th>against_electric</th>\n",
       "      <th>against_fairy</th>\n",
       "      <th>against_fighting</th>\n",
       "      <th>against_fire</th>\n",
       "      <th>against_flying</th>\n",
       "      <th>against_ghost</th>\n",
       "      <th>against_grass</th>\n",
       "      <th>against_ground</th>\n",
       "      <th>against_ice</th>\n",
       "      <th>against_normal</th>\n",
       "      <th>against_poison</th>\n",
       "      <th>against_psychic</th>\n",
       "      <th>against_rock</th>\n",
       "      <th>against_steel</th>\n",
       "      <th>against_water</th>\n",
       "      <th>attack</th>\n",
       "      <th>base_egg_steps</th>\n",
       "      <th>base_happiness</th>\n",
       "      <th>base_total</th>\n",
       "      <th>defense</th>\n",
       "      <th>experience_growth</th>\n",
       "      <th>hp</th>\n",
       "      <th>EvoChain</th>\n",
       "      <th>percentage_male</th>\n",
       "      <th>pokedex_number</th>\n",
       "      <th>sp_attack</th>\n",
       "      <th>sp_defense</th>\n",
       "      <th>speed</th>\n",
       "      <th>generation</th>\n",
       "      <th>is_legendary</th>\n",
       "    </tr>\n",
       "  </thead>\n",
       "  <tbody>\n",
       "    <tr>\n",
       "      <th>count</th>\n",
       "      <td>801.000000</td>\n",
       "      <td>801.000000</td>\n",
       "      <td>801.000000</td>\n",
       "      <td>801.000000</td>\n",
       "      <td>801.000000</td>\n",
       "      <td>801.000000</td>\n",
       "      <td>801.000000</td>\n",
       "      <td>801.000000</td>\n",
       "      <td>801.000000</td>\n",
       "      <td>801.000000</td>\n",
       "      <td>801.000000</td>\n",
       "      <td>801.000000</td>\n",
       "      <td>801.000000</td>\n",
       "      <td>801.000000</td>\n",
       "      <td>801.000000</td>\n",
       "      <td>801.000000</td>\n",
       "      <td>801.000000</td>\n",
       "      <td>801.000000</td>\n",
       "      <td>801.000000</td>\n",
       "      <td>801.000000</td>\n",
       "      <td>801.000000</td>\n",
       "      <td>801.000000</td>\n",
       "      <td>801.000000</td>\n",
       "      <td>801.000000</td>\n",
       "      <td>8.010000e+02</td>\n",
       "      <td>801.000000</td>\n",
       "      <td>801.000000</td>\n",
       "      <td>703.000000</td>\n",
       "      <td>801.000000</td>\n",
       "      <td>801.000000</td>\n",
       "      <td>801.000000</td>\n",
       "      <td>801.000000</td>\n",
       "      <td>801.000000</td>\n",
       "      <td>801.000000</td>\n",
       "    </tr>\n",
       "    <tr>\n",
       "      <th>mean</th>\n",
       "      <td>400.000000</td>\n",
       "      <td>0.996255</td>\n",
       "      <td>1.057116</td>\n",
       "      <td>0.968789</td>\n",
       "      <td>1.073970</td>\n",
       "      <td>1.068976</td>\n",
       "      <td>1.065543</td>\n",
       "      <td>1.135456</td>\n",
       "      <td>1.192884</td>\n",
       "      <td>0.985019</td>\n",
       "      <td>1.034020</td>\n",
       "      <td>1.098002</td>\n",
       "      <td>1.208177</td>\n",
       "      <td>0.887016</td>\n",
       "      <td>0.975343</td>\n",
       "      <td>1.005306</td>\n",
       "      <td>1.250312</td>\n",
       "      <td>0.983458</td>\n",
       "      <td>1.058365</td>\n",
       "      <td>77.857678</td>\n",
       "      <td>7191.011236</td>\n",
       "      <td>65.362047</td>\n",
       "      <td>428.377029</td>\n",
       "      <td>73.008739</td>\n",
       "      <td>1.054996e+06</td>\n",
       "      <td>68.958801</td>\n",
       "      <td>194.304619</td>\n",
       "      <td>55.155761</td>\n",
       "      <td>401.000000</td>\n",
       "      <td>71.305868</td>\n",
       "      <td>70.911361</td>\n",
       "      <td>66.334582</td>\n",
       "      <td>3.690387</td>\n",
       "      <td>0.087391</td>\n",
       "    </tr>\n",
       "    <tr>\n",
       "      <th>std</th>\n",
       "      <td>231.373075</td>\n",
       "      <td>0.597248</td>\n",
       "      <td>0.438142</td>\n",
       "      <td>0.353058</td>\n",
       "      <td>0.654962</td>\n",
       "      <td>0.522167</td>\n",
       "      <td>0.717251</td>\n",
       "      <td>0.691853</td>\n",
       "      <td>0.604488</td>\n",
       "      <td>0.558256</td>\n",
       "      <td>0.788896</td>\n",
       "      <td>0.738818</td>\n",
       "      <td>0.735356</td>\n",
       "      <td>0.266106</td>\n",
       "      <td>0.549375</td>\n",
       "      <td>0.495183</td>\n",
       "      <td>0.697148</td>\n",
       "      <td>0.500117</td>\n",
       "      <td>0.606562</td>\n",
       "      <td>32.158820</td>\n",
       "      <td>6558.220422</td>\n",
       "      <td>19.598948</td>\n",
       "      <td>119.203577</td>\n",
       "      <td>30.769159</td>\n",
       "      <td>1.602558e+05</td>\n",
       "      <td>26.576015</td>\n",
       "      <td>120.643533</td>\n",
       "      <td>20.261623</td>\n",
       "      <td>231.373075</td>\n",
       "      <td>32.353826</td>\n",
       "      <td>27.942501</td>\n",
       "      <td>28.907662</td>\n",
       "      <td>1.930420</td>\n",
       "      <td>0.282583</td>\n",
       "    </tr>\n",
       "    <tr>\n",
       "      <th>min</th>\n",
       "      <td>0.000000</td>\n",
       "      <td>0.250000</td>\n",
       "      <td>0.250000</td>\n",
       "      <td>0.000000</td>\n",
       "      <td>0.000000</td>\n",
       "      <td>0.250000</td>\n",
       "      <td>0.000000</td>\n",
       "      <td>0.250000</td>\n",
       "      <td>0.250000</td>\n",
       "      <td>0.000000</td>\n",
       "      <td>0.250000</td>\n",
       "      <td>0.000000</td>\n",
       "      <td>0.250000</td>\n",
       "      <td>0.000000</td>\n",
       "      <td>0.000000</td>\n",
       "      <td>0.000000</td>\n",
       "      <td>0.250000</td>\n",
       "      <td>0.250000</td>\n",
       "      <td>0.250000</td>\n",
       "      <td>5.000000</td>\n",
       "      <td>1280.000000</td>\n",
       "      <td>0.000000</td>\n",
       "      <td>180.000000</td>\n",
       "      <td>5.000000</td>\n",
       "      <td>6.000000e+05</td>\n",
       "      <td>1.000000</td>\n",
       "      <td>1.000000</td>\n",
       "      <td>0.000000</td>\n",
       "      <td>1.000000</td>\n",
       "      <td>10.000000</td>\n",
       "      <td>20.000000</td>\n",
       "      <td>5.000000</td>\n",
       "      <td>1.000000</td>\n",
       "      <td>0.000000</td>\n",
       "    </tr>\n",
       "    <tr>\n",
       "      <th>25%</th>\n",
       "      <td>200.000000</td>\n",
       "      <td>0.500000</td>\n",
       "      <td>1.000000</td>\n",
       "      <td>1.000000</td>\n",
       "      <td>0.500000</td>\n",
       "      <td>1.000000</td>\n",
       "      <td>0.500000</td>\n",
       "      <td>0.500000</td>\n",
       "      <td>1.000000</td>\n",
       "      <td>1.000000</td>\n",
       "      <td>0.500000</td>\n",
       "      <td>1.000000</td>\n",
       "      <td>0.500000</td>\n",
       "      <td>1.000000</td>\n",
       "      <td>0.500000</td>\n",
       "      <td>1.000000</td>\n",
       "      <td>1.000000</td>\n",
       "      <td>0.500000</td>\n",
       "      <td>0.500000</td>\n",
       "      <td>55.000000</td>\n",
       "      <td>5120.000000</td>\n",
       "      <td>70.000000</td>\n",
       "      <td>320.000000</td>\n",
       "      <td>50.000000</td>\n",
       "      <td>1.000000e+06</td>\n",
       "      <td>50.000000</td>\n",
       "      <td>86.000000</td>\n",
       "      <td>50.000000</td>\n",
       "      <td>201.000000</td>\n",
       "      <td>45.000000</td>\n",
       "      <td>50.000000</td>\n",
       "      <td>45.000000</td>\n",
       "      <td>2.000000</td>\n",
       "      <td>0.000000</td>\n",
       "    </tr>\n",
       "    <tr>\n",
       "      <th>50%</th>\n",
       "      <td>400.000000</td>\n",
       "      <td>1.000000</td>\n",
       "      <td>1.000000</td>\n",
       "      <td>1.000000</td>\n",
       "      <td>1.000000</td>\n",
       "      <td>1.000000</td>\n",
       "      <td>1.000000</td>\n",
       "      <td>1.000000</td>\n",
       "      <td>1.000000</td>\n",
       "      <td>1.000000</td>\n",
       "      <td>1.000000</td>\n",
       "      <td>1.000000</td>\n",
       "      <td>1.000000</td>\n",
       "      <td>1.000000</td>\n",
       "      <td>1.000000</td>\n",
       "      <td>1.000000</td>\n",
       "      <td>1.000000</td>\n",
       "      <td>1.000000</td>\n",
       "      <td>1.000000</td>\n",
       "      <td>75.000000</td>\n",
       "      <td>5120.000000</td>\n",
       "      <td>70.000000</td>\n",
       "      <td>435.000000</td>\n",
       "      <td>70.000000</td>\n",
       "      <td>1.000000e+06</td>\n",
       "      <td>65.000000</td>\n",
       "      <td>191.000000</td>\n",
       "      <td>50.000000</td>\n",
       "      <td>401.000000</td>\n",
       "      <td>65.000000</td>\n",
       "      <td>66.000000</td>\n",
       "      <td>65.000000</td>\n",
       "      <td>4.000000</td>\n",
       "      <td>0.000000</td>\n",
       "    </tr>\n",
       "    <tr>\n",
       "      <th>75%</th>\n",
       "      <td>600.000000</td>\n",
       "      <td>1.000000</td>\n",
       "      <td>1.000000</td>\n",
       "      <td>1.000000</td>\n",
       "      <td>1.000000</td>\n",
       "      <td>1.000000</td>\n",
       "      <td>1.000000</td>\n",
       "      <td>2.000000</td>\n",
       "      <td>1.000000</td>\n",
       "      <td>1.000000</td>\n",
       "      <td>1.000000</td>\n",
       "      <td>1.000000</td>\n",
       "      <td>2.000000</td>\n",
       "      <td>1.000000</td>\n",
       "      <td>1.000000</td>\n",
       "      <td>1.000000</td>\n",
       "      <td>2.000000</td>\n",
       "      <td>1.000000</td>\n",
       "      <td>1.000000</td>\n",
       "      <td>100.000000</td>\n",
       "      <td>6400.000000</td>\n",
       "      <td>70.000000</td>\n",
       "      <td>505.000000</td>\n",
       "      <td>90.000000</td>\n",
       "      <td>1.059860e+06</td>\n",
       "      <td>80.000000</td>\n",
       "      <td>298.000000</td>\n",
       "      <td>50.000000</td>\n",
       "      <td>601.000000</td>\n",
       "      <td>91.000000</td>\n",
       "      <td>90.000000</td>\n",
       "      <td>85.000000</td>\n",
       "      <td>5.000000</td>\n",
       "      <td>0.000000</td>\n",
       "    </tr>\n",
       "    <tr>\n",
       "      <th>max</th>\n",
       "      <td>800.000000</td>\n",
       "      <td>4.000000</td>\n",
       "      <td>4.000000</td>\n",
       "      <td>2.000000</td>\n",
       "      <td>4.000000</td>\n",
       "      <td>4.000000</td>\n",
       "      <td>4.000000</td>\n",
       "      <td>4.000000</td>\n",
       "      <td>4.000000</td>\n",
       "      <td>4.000000</td>\n",
       "      <td>4.000000</td>\n",
       "      <td>4.000000</td>\n",
       "      <td>4.000000</td>\n",
       "      <td>1.000000</td>\n",
       "      <td>4.000000</td>\n",
       "      <td>4.000000</td>\n",
       "      <td>4.000000</td>\n",
       "      <td>4.000000</td>\n",
       "      <td>4.000000</td>\n",
       "      <td>185.000000</td>\n",
       "      <td>30720.000000</td>\n",
       "      <td>140.000000</td>\n",
       "      <td>780.000000</td>\n",
       "      <td>230.000000</td>\n",
       "      <td>1.640000e+06</td>\n",
       "      <td>255.000000</td>\n",
       "      <td>414.000000</td>\n",
       "      <td>100.000000</td>\n",
       "      <td>801.000000</td>\n",
       "      <td>194.000000</td>\n",
       "      <td>230.000000</td>\n",
       "      <td>180.000000</td>\n",
       "      <td>7.000000</td>\n",
       "      <td>1.000000</td>\n",
       "    </tr>\n",
       "  </tbody>\n",
       "</table>\n",
       "</div>"
      ],
      "text/plain": [
       "       Unnamed: 0  against_bug  against_dark  against_dragon  \\\n",
       "count  801.000000   801.000000    801.000000      801.000000   \n",
       "mean   400.000000     0.996255      1.057116        0.968789   \n",
       "std    231.373075     0.597248      0.438142        0.353058   \n",
       "min      0.000000     0.250000      0.250000        0.000000   \n",
       "25%    200.000000     0.500000      1.000000        1.000000   \n",
       "50%    400.000000     1.000000      1.000000        1.000000   \n",
       "75%    600.000000     1.000000      1.000000        1.000000   \n",
       "max    800.000000     4.000000      4.000000        2.000000   \n",
       "\n",
       "       against_electric  against_fairy  against_fighting  against_fire  \\\n",
       "count        801.000000     801.000000        801.000000    801.000000   \n",
       "mean           1.073970       1.068976          1.065543      1.135456   \n",
       "std            0.654962       0.522167          0.717251      0.691853   \n",
       "min            0.000000       0.250000          0.000000      0.250000   \n",
       "25%            0.500000       1.000000          0.500000      0.500000   \n",
       "50%            1.000000       1.000000          1.000000      1.000000   \n",
       "75%            1.000000       1.000000          1.000000      2.000000   \n",
       "max            4.000000       4.000000          4.000000      4.000000   \n",
       "\n",
       "       against_flying  against_ghost  against_grass  against_ground  \\\n",
       "count      801.000000     801.000000     801.000000      801.000000   \n",
       "mean         1.192884       0.985019       1.034020        1.098002   \n",
       "std          0.604488       0.558256       0.788896        0.738818   \n",
       "min          0.250000       0.000000       0.250000        0.000000   \n",
       "25%          1.000000       1.000000       0.500000        1.000000   \n",
       "50%          1.000000       1.000000       1.000000        1.000000   \n",
       "75%          1.000000       1.000000       1.000000        1.000000   \n",
       "max          4.000000       4.000000       4.000000        4.000000   \n",
       "\n",
       "       against_ice  against_normal  against_poison  against_psychic  \\\n",
       "count   801.000000      801.000000      801.000000       801.000000   \n",
       "mean      1.208177        0.887016        0.975343         1.005306   \n",
       "std       0.735356        0.266106        0.549375         0.495183   \n",
       "min       0.250000        0.000000        0.000000         0.000000   \n",
       "25%       0.500000        1.000000        0.500000         1.000000   \n",
       "50%       1.000000        1.000000        1.000000         1.000000   \n",
       "75%       2.000000        1.000000        1.000000         1.000000   \n",
       "max       4.000000        1.000000        4.000000         4.000000   \n",
       "\n",
       "       against_rock  against_steel  against_water      attack  base_egg_steps  \\\n",
       "count    801.000000     801.000000     801.000000  801.000000      801.000000   \n",
       "mean       1.250312       0.983458       1.058365   77.857678     7191.011236   \n",
       "std        0.697148       0.500117       0.606562   32.158820     6558.220422   \n",
       "min        0.250000       0.250000       0.250000    5.000000     1280.000000   \n",
       "25%        1.000000       0.500000       0.500000   55.000000     5120.000000   \n",
       "50%        1.000000       1.000000       1.000000   75.000000     5120.000000   \n",
       "75%        2.000000       1.000000       1.000000  100.000000     6400.000000   \n",
       "max        4.000000       4.000000       4.000000  185.000000    30720.000000   \n",
       "\n",
       "       base_happiness  base_total     defense  experience_growth          hp  \\\n",
       "count      801.000000  801.000000  801.000000       8.010000e+02  801.000000   \n",
       "mean        65.362047  428.377029   73.008739       1.054996e+06   68.958801   \n",
       "std         19.598948  119.203577   30.769159       1.602558e+05   26.576015   \n",
       "min          0.000000  180.000000    5.000000       6.000000e+05    1.000000   \n",
       "25%         70.000000  320.000000   50.000000       1.000000e+06   50.000000   \n",
       "50%         70.000000  435.000000   70.000000       1.000000e+06   65.000000   \n",
       "75%         70.000000  505.000000   90.000000       1.059860e+06   80.000000   \n",
       "max        140.000000  780.000000  230.000000       1.640000e+06  255.000000   \n",
       "\n",
       "         EvoChain  percentage_male  pokedex_number   sp_attack  sp_defense  \\\n",
       "count  801.000000       703.000000      801.000000  801.000000  801.000000   \n",
       "mean   194.304619        55.155761      401.000000   71.305868   70.911361   \n",
       "std    120.643533        20.261623      231.373075   32.353826   27.942501   \n",
       "min      1.000000         0.000000        1.000000   10.000000   20.000000   \n",
       "25%     86.000000        50.000000      201.000000   45.000000   50.000000   \n",
       "50%    191.000000        50.000000      401.000000   65.000000   66.000000   \n",
       "75%    298.000000        50.000000      601.000000   91.000000   90.000000   \n",
       "max    414.000000       100.000000      801.000000  194.000000  230.000000   \n",
       "\n",
       "            speed  generation  is_legendary  \n",
       "count  801.000000  801.000000    801.000000  \n",
       "mean    66.334582    3.690387      0.087391  \n",
       "std     28.907662    1.930420      0.282583  \n",
       "min      5.000000    1.000000      0.000000  \n",
       "25%     45.000000    2.000000      0.000000  \n",
       "50%     65.000000    4.000000      0.000000  \n",
       "75%     85.000000    5.000000      0.000000  \n",
       "max    180.000000    7.000000      1.000000  "
      ]
     },
     "execution_count": 7,
     "metadata": {},
     "output_type": "execute_result"
    }
   ],
   "source": [
    "df.describe()"
   ]
  },
  {
   "cell_type": "markdown",
   "metadata": {},
   "source": [
    "___\n",
    "### STEP 2: Cleaning\n",
    "Remove all Pokemon rows that are legendary, since in normal gameplay legendary Pokemon can never hatch from an egg:"
   ]
  },
  {
   "cell_type": "code",
   "execution_count": 8,
   "metadata": {},
   "outputs": [],
   "source": [
    "df = df.set_index(\"is_legendary\")\n",
    "df.drop(1, axis=0, inplace=True) # Delete all rows with is_legendary features that are labelled '1'."
   ]
  },
  {
   "cell_type": "markdown",
   "metadata": {},
   "source": [
    "Then remove is_legendary column (currently the index) since it is no longer a distinguishing feature:"
   ]
  },
  {
   "cell_type": "code",
   "execution_count": 9,
   "metadata": {},
   "outputs": [],
   "source": [
    "df.reset_index(drop=True, inplace=True)"
   ]
  },
  {
   "cell_type": "markdown",
   "metadata": {},
   "source": [
    "731 (non-legendary) Pokemon will be left:"
   ]
  },
  {
   "cell_type": "code",
   "execution_count": 10,
   "metadata": {},
   "outputs": [
    {
     "name": "stdout",
     "output_type": "stream",
     "text": [
      "<class 'pandas.core.frame.DataFrame'>\n",
      "RangeIndex: 731 entries, 0 to 730\n",
      "Data columns (total 59 columns):\n",
      " #   Column             Non-Null Count  Dtype  \n",
      "---  ------             --------------  -----  \n",
      " 0   abilities          731 non-null    object \n",
      " 1   against_bug        731 non-null    float64\n",
      " 2   against_dark       731 non-null    float64\n",
      " 3   against_dragon     731 non-null    float64\n",
      " 4   against_electric   731 non-null    float64\n",
      " 5   against_fairy      731 non-null    float64\n",
      " 6   against_fighting   731 non-null    float64\n",
      " 7   against_fire       731 non-null    float64\n",
      " 8   against_flying     731 non-null    float64\n",
      " 9   against_ghost      731 non-null    float64\n",
      " 10  against_grass      731 non-null    float64\n",
      " 11  against_ground     731 non-null    float64\n",
      " 12  against_ice        731 non-null    float64\n",
      " 13  against_normal     731 non-null    float64\n",
      " 14  against_poison     731 non-null    float64\n",
      " 15  against_psychic    731 non-null    float64\n",
      " 16  against_rock       731 non-null    float64\n",
      " 17  against_steel      731 non-null    float64\n",
      " 18  against_water      731 non-null    float64\n",
      " 19  attack             731 non-null    int64  \n",
      " 20  base_egg_steps     731 non-null    int64  \n",
      " 21  base_happiness     731 non-null    int64  \n",
      " 22  base_total         731 non-null    int64  \n",
      " 23  capture_rate       731 non-null    object \n",
      " 24  classfication      731 non-null    object \n",
      " 25  defense            731 non-null    int64  \n",
      " 26  experience_growth  731 non-null    int64  \n",
      " 27  height_m           731 non-null    object \n",
      " 28  hp                 731 non-null    int64  \n",
      " 29  japanese_name      731 non-null    object \n",
      " 30  name               731 non-null    object \n",
      " 31  EvoChain           731 non-null    int64  \n",
      " 32  can_hatch          731 non-null    bool   \n",
      " 33  percentage_male    696 non-null    float64\n",
      " 34  pokedex_number     731 non-null    int64  \n",
      " 35  sp_attack          731 non-null    int64  \n",
      " 36  sp_defense         731 non-null    int64  \n",
      " 37  speed              731 non-null    int64  \n",
      " 38  weight_kg          731 non-null    object \n",
      " 39  generation         731 non-null    int64  \n",
      " 40  is_fire_type       731 non-null    bool   \n",
      " 41  is_water_type      731 non-null    bool   \n",
      " 42  is_grass_type      731 non-null    bool   \n",
      " 43  is_electric_type   731 non-null    bool   \n",
      " 44  is_ground_type     731 non-null    bool   \n",
      " 45  is_bug_type        731 non-null    bool   \n",
      " 46  is_normal_type     731 non-null    bool   \n",
      " 47  is_ice_type        731 non-null    bool   \n",
      " 48  is_flying_type     731 non-null    bool   \n",
      " 49  is_poison_type     731 non-null    bool   \n",
      " 50  is_fighting_type   731 non-null    bool   \n",
      " 51  is_rock_type       731 non-null    bool   \n",
      " 52  is_steel_type      731 non-null    bool   \n",
      " 53  is_fairy_type      731 non-null    bool   \n",
      " 54  is_dark_type       731 non-null    bool   \n",
      " 55  is_ghost_type      731 non-null    bool   \n",
      " 56  is_dragon_type     731 non-null    bool   \n",
      " 57  is_psychic_type    731 non-null    bool   \n",
      " 58  pure_type          731 non-null    bool   \n",
      "dtypes: bool(20), float64(19), int64(13), object(7)\n",
      "memory usage: 237.1+ KB\n"
     ]
    }
   ],
   "source": [
    "del df['Unnamed: 0']\n",
    "df.info()"
   ]
  },
  {
   "cell_type": "markdown",
   "metadata": {},
   "source": [
    "Filtering away Pokemon that have 'can_hatch'==0 i.e. Pokemon whose eggs are unable to be obtained in normal gameplay.\n",
    "354 Pokemon (whose eggs can be obtained in normal gameplay) are left:"
   ]
  },
  {
   "cell_type": "code",
   "execution_count": 11,
   "metadata": {},
   "outputs": [
    {
     "data": {
      "text/html": [
       "<div>\n",
       "<style scoped>\n",
       "    .dataframe tbody tr th:only-of-type {\n",
       "        vertical-align: middle;\n",
       "    }\n",
       "\n",
       "    .dataframe tbody tr th {\n",
       "        vertical-align: top;\n",
       "    }\n",
       "\n",
       "    .dataframe thead th {\n",
       "        text-align: right;\n",
       "    }\n",
       "</style>\n",
       "<table border=\"1\" class=\"dataframe\">\n",
       "  <thead>\n",
       "    <tr style=\"text-align: right;\">\n",
       "      <th></th>\n",
       "      <th>against_bug</th>\n",
       "      <th>against_dark</th>\n",
       "      <th>against_dragon</th>\n",
       "      <th>against_electric</th>\n",
       "      <th>against_fairy</th>\n",
       "      <th>against_fighting</th>\n",
       "      <th>against_fire</th>\n",
       "      <th>against_flying</th>\n",
       "      <th>against_ghost</th>\n",
       "      <th>against_grass</th>\n",
       "      <th>against_ground</th>\n",
       "      <th>against_ice</th>\n",
       "      <th>against_normal</th>\n",
       "      <th>against_poison</th>\n",
       "      <th>against_psychic</th>\n",
       "      <th>against_rock</th>\n",
       "      <th>against_steel</th>\n",
       "      <th>against_water</th>\n",
       "      <th>attack</th>\n",
       "      <th>base_egg_steps</th>\n",
       "      <th>base_happiness</th>\n",
       "      <th>base_total</th>\n",
       "      <th>defense</th>\n",
       "      <th>experience_growth</th>\n",
       "      <th>hp</th>\n",
       "      <th>EvoChain</th>\n",
       "      <th>percentage_male</th>\n",
       "      <th>pokedex_number</th>\n",
       "      <th>sp_attack</th>\n",
       "      <th>sp_defense</th>\n",
       "      <th>speed</th>\n",
       "      <th>generation</th>\n",
       "    </tr>\n",
       "  </thead>\n",
       "  <tbody>\n",
       "    <tr>\n",
       "      <th>count</th>\n",
       "      <td>354.000000</td>\n",
       "      <td>354.000000</td>\n",
       "      <td>354.000000</td>\n",
       "      <td>354.000000</td>\n",
       "      <td>354.000000</td>\n",
       "      <td>354.000000</td>\n",
       "      <td>354.000000</td>\n",
       "      <td>354.000000</td>\n",
       "      <td>354.000000</td>\n",
       "      <td>354.000000</td>\n",
       "      <td>354.000000</td>\n",
       "      <td>354.000000</td>\n",
       "      <td>354.000000</td>\n",
       "      <td>354.000000</td>\n",
       "      <td>354.000000</td>\n",
       "      <td>354.000000</td>\n",
       "      <td>354.000000</td>\n",
       "      <td>354.000000</td>\n",
       "      <td>354.000000</td>\n",
       "      <td>354.000000</td>\n",
       "      <td>354.000000</td>\n",
       "      <td>354.000000</td>\n",
       "      <td>354.000000</td>\n",
       "      <td>3.540000e+02</td>\n",
       "      <td>354.000000</td>\n",
       "      <td>354.000000</td>\n",
       "      <td>337.000000</td>\n",
       "      <td>354.000000</td>\n",
       "      <td>354.000000</td>\n",
       "      <td>354.000000</td>\n",
       "      <td>354.000000</td>\n",
       "      <td>354.000000</td>\n",
       "    </tr>\n",
       "    <tr>\n",
       "      <th>mean</th>\n",
       "      <td>0.986582</td>\n",
       "      <td>1.048729</td>\n",
       "      <td>0.957627</td>\n",
       "      <td>1.114407</td>\n",
       "      <td>1.038842</td>\n",
       "      <td>1.075565</td>\n",
       "      <td>1.108757</td>\n",
       "      <td>1.173729</td>\n",
       "      <td>0.935028</td>\n",
       "      <td>1.068503</td>\n",
       "      <td>1.084746</td>\n",
       "      <td>1.169492</td>\n",
       "      <td>0.889831</td>\n",
       "      <td>0.980932</td>\n",
       "      <td>1.018362</td>\n",
       "      <td>1.248588</td>\n",
       "      <td>1.000706</td>\n",
       "      <td>1.058616</td>\n",
       "      <td>60.850282</td>\n",
       "      <td>5373.107345</td>\n",
       "      <td>68.290960</td>\n",
       "      <td>341.290960</td>\n",
       "      <td>59.432203</td>\n",
       "      <td>1.032371e+06</td>\n",
       "      <td>56.079096</td>\n",
       "      <td>193.093220</td>\n",
       "      <td>53.813650</td>\n",
       "      <td>393.231638</td>\n",
       "      <td>52.884181</td>\n",
       "      <td>57.392655</td>\n",
       "      <td>54.652542</td>\n",
       "      <td>3.635593</td>\n",
       "    </tr>\n",
       "    <tr>\n",
       "      <th>std</th>\n",
       "      <td>0.542131</td>\n",
       "      <td>0.384626</td>\n",
       "      <td>0.316516</td>\n",
       "      <td>0.662890</td>\n",
       "      <td>0.447778</td>\n",
       "      <td>0.701660</td>\n",
       "      <td>0.646549</td>\n",
       "      <td>0.560290</td>\n",
       "      <td>0.547996</td>\n",
       "      <td>0.780701</td>\n",
       "      <td>0.705769</td>\n",
       "      <td>0.669458</td>\n",
       "      <td>0.263870</td>\n",
       "      <td>0.520293</td>\n",
       "      <td>0.468575</td>\n",
       "      <td>0.638971</td>\n",
       "      <td>0.506158</td>\n",
       "      <td>0.595298</td>\n",
       "      <td>25.696257</td>\n",
       "      <td>1571.603521</td>\n",
       "      <td>11.726466</td>\n",
       "      <td>85.887551</td>\n",
       "      <td>27.217770</td>\n",
       "      <td>1.653144e+05</td>\n",
       "      <td>23.881897</td>\n",
       "      <td>117.753571</td>\n",
       "      <td>18.770083</td>\n",
       "      <td>227.605661</td>\n",
       "      <td>21.821985</td>\n",
       "      <td>24.688566</td>\n",
       "      <td>24.360621</td>\n",
       "      <td>1.923459</td>\n",
       "    </tr>\n",
       "    <tr>\n",
       "      <th>min</th>\n",
       "      <td>0.250000</td>\n",
       "      <td>0.250000</td>\n",
       "      <td>0.000000</td>\n",
       "      <td>0.000000</td>\n",
       "      <td>0.250000</td>\n",
       "      <td>0.000000</td>\n",
       "      <td>0.250000</td>\n",
       "      <td>0.250000</td>\n",
       "      <td>0.000000</td>\n",
       "      <td>0.250000</td>\n",
       "      <td>0.000000</td>\n",
       "      <td>0.250000</td>\n",
       "      <td>0.000000</td>\n",
       "      <td>0.000000</td>\n",
       "      <td>0.000000</td>\n",
       "      <td>0.500000</td>\n",
       "      <td>0.250000</td>\n",
       "      <td>0.250000</td>\n",
       "      <td>5.000000</td>\n",
       "      <td>1280.000000</td>\n",
       "      <td>0.000000</td>\n",
       "      <td>180.000000</td>\n",
       "      <td>5.000000</td>\n",
       "      <td>6.000000e+05</td>\n",
       "      <td>10.000000</td>\n",
       "      <td>1.000000</td>\n",
       "      <td>0.000000</td>\n",
       "      <td>1.000000</td>\n",
       "      <td>10.000000</td>\n",
       "      <td>20.000000</td>\n",
       "      <td>5.000000</td>\n",
       "      <td>1.000000</td>\n",
       "    </tr>\n",
       "    <tr>\n",
       "      <th>25%</th>\n",
       "      <td>0.500000</td>\n",
       "      <td>1.000000</td>\n",
       "      <td>1.000000</td>\n",
       "      <td>1.000000</td>\n",
       "      <td>1.000000</td>\n",
       "      <td>0.500000</td>\n",
       "      <td>0.500000</td>\n",
       "      <td>1.000000</td>\n",
       "      <td>1.000000</td>\n",
       "      <td>0.500000</td>\n",
       "      <td>1.000000</td>\n",
       "      <td>0.500000</td>\n",
       "      <td>1.000000</td>\n",
       "      <td>0.500000</td>\n",
       "      <td>1.000000</td>\n",
       "      <td>1.000000</td>\n",
       "      <td>0.500000</td>\n",
       "      <td>0.500000</td>\n",
       "      <td>45.000000</td>\n",
       "      <td>5120.000000</td>\n",
       "      <td>70.000000</td>\n",
       "      <td>290.000000</td>\n",
       "      <td>40.000000</td>\n",
       "      <td>1.000000e+06</td>\n",
       "      <td>41.000000</td>\n",
       "      <td>91.000000</td>\n",
       "      <td>50.000000</td>\n",
       "      <td>202.250000</td>\n",
       "      <td>38.250000</td>\n",
       "      <td>40.000000</td>\n",
       "      <td>35.000000</td>\n",
       "      <td>2.000000</td>\n",
       "    </tr>\n",
       "    <tr>\n",
       "      <th>50%</th>\n",
       "      <td>1.000000</td>\n",
       "      <td>1.000000</td>\n",
       "      <td>1.000000</td>\n",
       "      <td>1.000000</td>\n",
       "      <td>1.000000</td>\n",
       "      <td>1.000000</td>\n",
       "      <td>1.000000</td>\n",
       "      <td>1.000000</td>\n",
       "      <td>1.000000</td>\n",
       "      <td>1.000000</td>\n",
       "      <td>1.000000</td>\n",
       "      <td>1.000000</td>\n",
       "      <td>1.000000</td>\n",
       "      <td>1.000000</td>\n",
       "      <td>1.000000</td>\n",
       "      <td>1.000000</td>\n",
       "      <td>1.000000</td>\n",
       "      <td>1.000000</td>\n",
       "      <td>55.000000</td>\n",
       "      <td>5120.000000</td>\n",
       "      <td>70.000000</td>\n",
       "      <td>319.500000</td>\n",
       "      <td>50.000000</td>\n",
       "      <td>1.000000e+06</td>\n",
       "      <td>50.000000</td>\n",
       "      <td>182.500000</td>\n",
       "      <td>50.000000</td>\n",
       "      <td>367.500000</td>\n",
       "      <td>50.000000</td>\n",
       "      <td>50.000000</td>\n",
       "      <td>50.000000</td>\n",
       "      <td>3.000000</td>\n",
       "    </tr>\n",
       "    <tr>\n",
       "      <th>75%</th>\n",
       "      <td>1.000000</td>\n",
       "      <td>1.000000</td>\n",
       "      <td>1.000000</td>\n",
       "      <td>1.000000</td>\n",
       "      <td>1.000000</td>\n",
       "      <td>1.000000</td>\n",
       "      <td>1.000000</td>\n",
       "      <td>1.000000</td>\n",
       "      <td>1.000000</td>\n",
       "      <td>1.000000</td>\n",
       "      <td>1.000000</td>\n",
       "      <td>2.000000</td>\n",
       "      <td>1.000000</td>\n",
       "      <td>1.000000</td>\n",
       "      <td>1.000000</td>\n",
       "      <td>2.000000</td>\n",
       "      <td>1.000000</td>\n",
       "      <td>1.000000</td>\n",
       "      <td>75.000000</td>\n",
       "      <td>5120.000000</td>\n",
       "      <td>70.000000</td>\n",
       "      <td>388.750000</td>\n",
       "      <td>70.000000</td>\n",
       "      <td>1.059860e+06</td>\n",
       "      <td>65.000000</td>\n",
       "      <td>293.750000</td>\n",
       "      <td>50.000000</td>\n",
       "      <td>591.500000</td>\n",
       "      <td>65.000000</td>\n",
       "      <td>65.000000</td>\n",
       "      <td>70.000000</td>\n",
       "      <td>5.000000</td>\n",
       "    </tr>\n",
       "    <tr>\n",
       "      <th>max</th>\n",
       "      <td>4.000000</td>\n",
       "      <td>2.000000</td>\n",
       "      <td>2.000000</td>\n",
       "      <td>4.000000</td>\n",
       "      <td>4.000000</td>\n",
       "      <td>4.000000</td>\n",
       "      <td>4.000000</td>\n",
       "      <td>4.000000</td>\n",
       "      <td>2.000000</td>\n",
       "      <td>4.000000</td>\n",
       "      <td>4.000000</td>\n",
       "      <td>4.000000</td>\n",
       "      <td>1.000000</td>\n",
       "      <td>4.000000</td>\n",
       "      <td>4.000000</td>\n",
       "      <td>4.000000</td>\n",
       "      <td>4.000000</td>\n",
       "      <td>4.000000</td>\n",
       "      <td>185.000000</td>\n",
       "      <td>10240.000000</td>\n",
       "      <td>140.000000</td>\n",
       "      <td>620.000000</td>\n",
       "      <td>230.000000</td>\n",
       "      <td>1.640000e+06</td>\n",
       "      <td>250.000000</td>\n",
       "      <td>400.000000</td>\n",
       "      <td>100.000000</td>\n",
       "      <td>782.000000</td>\n",
       "      <td>140.000000</td>\n",
       "      <td>230.000000</td>\n",
       "      <td>150.000000</td>\n",
       "      <td>7.000000</td>\n",
       "    </tr>\n",
       "  </tbody>\n",
       "</table>\n",
       "</div>"
      ],
      "text/plain": [
       "       against_bug  against_dark  against_dragon  against_electric  \\\n",
       "count   354.000000    354.000000      354.000000        354.000000   \n",
       "mean      0.986582      1.048729        0.957627          1.114407   \n",
       "std       0.542131      0.384626        0.316516          0.662890   \n",
       "min       0.250000      0.250000        0.000000          0.000000   \n",
       "25%       0.500000      1.000000        1.000000          1.000000   \n",
       "50%       1.000000      1.000000        1.000000          1.000000   \n",
       "75%       1.000000      1.000000        1.000000          1.000000   \n",
       "max       4.000000      2.000000        2.000000          4.000000   \n",
       "\n",
       "       against_fairy  against_fighting  against_fire  against_flying  \\\n",
       "count     354.000000        354.000000    354.000000      354.000000   \n",
       "mean        1.038842          1.075565      1.108757        1.173729   \n",
       "std         0.447778          0.701660      0.646549        0.560290   \n",
       "min         0.250000          0.000000      0.250000        0.250000   \n",
       "25%         1.000000          0.500000      0.500000        1.000000   \n",
       "50%         1.000000          1.000000      1.000000        1.000000   \n",
       "75%         1.000000          1.000000      1.000000        1.000000   \n",
       "max         4.000000          4.000000      4.000000        4.000000   \n",
       "\n",
       "       against_ghost  against_grass  against_ground  against_ice  \\\n",
       "count     354.000000     354.000000      354.000000   354.000000   \n",
       "mean        0.935028       1.068503        1.084746     1.169492   \n",
       "std         0.547996       0.780701        0.705769     0.669458   \n",
       "min         0.000000       0.250000        0.000000     0.250000   \n",
       "25%         1.000000       0.500000        1.000000     0.500000   \n",
       "50%         1.000000       1.000000        1.000000     1.000000   \n",
       "75%         1.000000       1.000000        1.000000     2.000000   \n",
       "max         2.000000       4.000000        4.000000     4.000000   \n",
       "\n",
       "       against_normal  against_poison  against_psychic  against_rock  \\\n",
       "count      354.000000      354.000000       354.000000    354.000000   \n",
       "mean         0.889831        0.980932         1.018362      1.248588   \n",
       "std          0.263870        0.520293         0.468575      0.638971   \n",
       "min          0.000000        0.000000         0.000000      0.500000   \n",
       "25%          1.000000        0.500000         1.000000      1.000000   \n",
       "50%          1.000000        1.000000         1.000000      1.000000   \n",
       "75%          1.000000        1.000000         1.000000      2.000000   \n",
       "max          1.000000        4.000000         4.000000      4.000000   \n",
       "\n",
       "       against_steel  against_water      attack  base_egg_steps  \\\n",
       "count     354.000000     354.000000  354.000000      354.000000   \n",
       "mean        1.000706       1.058616   60.850282     5373.107345   \n",
       "std         0.506158       0.595298   25.696257     1571.603521   \n",
       "min         0.250000       0.250000    5.000000     1280.000000   \n",
       "25%         0.500000       0.500000   45.000000     5120.000000   \n",
       "50%         1.000000       1.000000   55.000000     5120.000000   \n",
       "75%         1.000000       1.000000   75.000000     5120.000000   \n",
       "max         4.000000       4.000000  185.000000    10240.000000   \n",
       "\n",
       "       base_happiness  base_total     defense  experience_growth          hp  \\\n",
       "count      354.000000  354.000000  354.000000       3.540000e+02  354.000000   \n",
       "mean        68.290960  341.290960   59.432203       1.032371e+06   56.079096   \n",
       "std         11.726466   85.887551   27.217770       1.653144e+05   23.881897   \n",
       "min          0.000000  180.000000    5.000000       6.000000e+05   10.000000   \n",
       "25%         70.000000  290.000000   40.000000       1.000000e+06   41.000000   \n",
       "50%         70.000000  319.500000   50.000000       1.000000e+06   50.000000   \n",
       "75%         70.000000  388.750000   70.000000       1.059860e+06   65.000000   \n",
       "max        140.000000  620.000000  230.000000       1.640000e+06  250.000000   \n",
       "\n",
       "         EvoChain  percentage_male  pokedex_number   sp_attack  sp_defense  \\\n",
       "count  354.000000       337.000000      354.000000  354.000000  354.000000   \n",
       "mean   193.093220        53.813650      393.231638   52.884181   57.392655   \n",
       "std    117.753571        18.770083      227.605661   21.821985   24.688566   \n",
       "min      1.000000         0.000000        1.000000   10.000000   20.000000   \n",
       "25%     91.000000        50.000000      202.250000   38.250000   40.000000   \n",
       "50%    182.500000        50.000000      367.500000   50.000000   50.000000   \n",
       "75%    293.750000        50.000000      591.500000   65.000000   65.000000   \n",
       "max    400.000000       100.000000      782.000000  140.000000  230.000000   \n",
       "\n",
       "            speed  generation  \n",
       "count  354.000000  354.000000  \n",
       "mean    54.652542    3.635593  \n",
       "std     24.360621    1.923459  \n",
       "min      5.000000    1.000000  \n",
       "25%     35.000000    2.000000  \n",
       "50%     50.000000    3.000000  \n",
       "75%     70.000000    5.000000  \n",
       "max    150.000000    7.000000  "
      ]
     },
     "execution_count": 11,
     "metadata": {},
     "output_type": "execute_result"
    }
   ],
   "source": [
    "df = df[df.can_hatch != 0]\n",
    "df.describe()"
   ]
  },
  {
   "cell_type": "markdown",
   "metadata": {},
   "source": [
    "Removing can_hatch column since it is no longer a distinguishing feature:"
   ]
  },
  {
   "cell_type": "code",
   "execution_count": 12,
   "metadata": {},
   "outputs": [],
   "source": [
    "del df['can_hatch']"
   ]
  },
  {
   "cell_type": "markdown",
   "metadata": {},
   "source": [
    "Remove EvoChain column since usually only one Pokemon in an EvoChain can hatch:"
   ]
  },
  {
   "cell_type": "code",
   "execution_count": 13,
   "metadata": {},
   "outputs": [],
   "source": [
    "del df['EvoChain']"
   ]
  },
  {
   "cell_type": "markdown",
   "metadata": {},
   "source": [
    "___\n",
    "##  Feature Conversions and Their Distributions\n",
    "### STEP 3.1: Converting numeric features to categorical"
   ]
  },
  {
   "cell_type": "markdown",
   "metadata": {},
   "source": [
    "#### percentage_male\n",
    "For percentage_male, there are 7 unique float percentage_male values and some NA values indicating agender Pokemon."
   ]
  },
  {
   "cell_type": "code",
   "execution_count": 14,
   "metadata": {},
   "outputs": [
    {
     "data": {
      "text/plain": [
       "array([ 88.1,  50. ,   0. , 100. ,  24.6,  75.4,   nan,  11.2])"
      ]
     },
     "execution_count": 14,
     "metadata": {},
     "output_type": "execute_result"
    }
   ],
   "source": [
    "df['percentage_male'].unique()"
   ]
  },
  {
   "cell_type": "code",
   "execution_count": 15,
   "metadata": {},
   "outputs": [
    {
     "data": {
      "text/plain": [
       "17"
      ]
     },
     "execution_count": 15,
     "metadata": {},
     "output_type": "execute_result"
    }
   ],
   "source": [
    "df['percentage_male'].isna().sum()"
   ]
  },
  {
   "cell_type": "markdown",
   "metadata": {},
   "source": [
    "Showing distribution of percentage_male:"
   ]
  },
  {
   "cell_type": "code",
   "execution_count": 16,
   "metadata": {},
   "outputs": [
    {
     "data": {
      "text/plain": [
       "<AxesSubplot:xlabel='percentage_male', ylabel='Count'>"
      ]
     },
     "execution_count": 16,
     "metadata": {},
     "output_type": "execute_result"
    },
    {
     "data": {
      "image/png": "[encoded data removed]",
      "text/plain": [
       "<Figure size 842.4x432 with 1 Axes>"
      ]
     },
     "metadata": {
      "needs_background": "light"
     },
     "output_type": "display_data"
    }
   ],
   "source": [
    "fig, ax = pyplot.subplots(figsize=(11.7, 6))\n",
    "\n",
    "sns.histplot(ax=ax, data=df['percentage_male'], bins=30)"
   ]
  },
  {
   "cell_type": "code",
   "execution_count": 17,
   "metadata": {},
   "outputs": [
    {
     "data": {
      "text/plain": [
       "50.0     254\n",
       "88.1      44\n",
       "24.6      13\n",
       "0.0       11\n",
       "75.4       7\n",
       "100.0      7\n",
       "11.2       1\n",
       "Name: percentage_male, dtype: int64"
      ]
     },
     "execution_count": 17,
     "metadata": {},
     "output_type": "execute_result"
    }
   ],
   "source": [
    "df['percentage_male'].value_counts()"
   ]
  },
  {
   "cell_type": "markdown",
   "metadata": {},
   "source": [
    "Categorizing all percentage_male values into 4 factors (Objects):"
   ]
  },
  {
   "cell_type": "code",
   "execution_count": 18,
   "metadata": {},
   "outputs": [],
   "source": [
    "def impute_percent_male(cols):\n",
    "    percent = cols[0]\n",
    "    \n",
    "    if percent < 50:\n",
    "        return \"<50\"\n",
    "    \n",
    "    elif percent == 50:\n",
    "        return \"50\"\n",
    "    \n",
    "    elif percent > 50:\n",
    "        return \">50\"\n",
    "    \n",
    "    else:\n",
    "        return \"agender\""
   ]
  },
  {
   "cell_type": "markdown",
   "metadata": {},
   "source": [
    "Applying above function:"
   ]
  },
  {
   "cell_type": "code",
   "execution_count": 19,
   "metadata": {},
   "outputs": [],
   "source": [
    "df['percentage_male'] = df[['percentage_male']].apply(impute_percent_male, axis=1)"
   ]
  },
  {
   "cell_type": "markdown",
   "metadata": {},
   "source": [
    "Converting these objects to type Category:"
   ]
  },
  {
   "cell_type": "code",
   "execution_count": 20,
   "metadata": {},
   "outputs": [
    {
     "data": {
      "text/plain": [
       "CategoricalDtype(categories=['50', '<50', '>50', 'agender'], ordered=False)"
      ]
     },
     "execution_count": 20,
     "metadata": {},
     "output_type": "execute_result"
    }
   ],
   "source": [
    "percent_cats_to_order = df['percentage_male'].unique()\n",
    "df['percentage_male'] = df['percentage_male'].astype('category')\n",
    "df['percentage_male'].dtypes"
   ]
  },
  {
   "cell_type": "markdown",
   "metadata": {},
   "source": [
    "Reordering these categories:"
   ]
  },
  {
   "cell_type": "code",
   "execution_count": 21,
   "metadata": {},
   "outputs": [
    {
     "data": {
      "text/plain": [
       "CategoricalDtype(categories=['<50', '50', '>50', 'agender'], ordered=True)"
      ]
     },
     "execution_count": 21,
     "metadata": {},
     "output_type": "execute_result"
    }
   ],
   "source": [
    "df['percentage_male'] = df['percentage_male'].cat.reorder_categories(['<50','50', '>50', 'agender'], ordered=True)\n",
    "df['percentage_male'].dtypes"
   ]
  },
  {
   "cell_type": "markdown",
   "metadata": {},
   "source": [
    "<br>"
   ]
  },
  {
   "cell_type": "markdown",
   "metadata": {},
   "source": [
    "#### experience_growth\n",
    "We see there are 6 unique experience_growth integer values:"
   ]
  },
  {
   "cell_type": "code",
   "execution_count": 22,
   "metadata": {},
   "outputs": [
    {
     "data": {
      "text/plain": [
       "array([1059860, 1000000, 1250000,  800000, 1640000,  600000], dtype=int64)"
      ]
     },
     "execution_count": 22,
     "metadata": {},
     "output_type": "execute_result"
    }
   ],
   "source": [
    "df['experience_growth'].unique()"
   ]
  },
  {
   "cell_type": "code",
   "execution_count": 23,
   "metadata": {},
   "outputs": [
    {
     "data": {
      "text/plain": [
       "1000000    172\n",
       "1059860     75\n",
       "1250000     53\n",
       "800000      35\n",
       "600000      11\n",
       "1640000      8\n",
       "Name: experience_growth, dtype: int64"
      ]
     },
     "execution_count": 23,
     "metadata": {},
     "output_type": "execute_result"
    }
   ],
   "source": [
    "df['experience_growth'].value_counts()"
   ]
  },
  {
   "cell_type": "markdown",
   "metadata": {},
   "source": [
    "Show distribution of experience_growth:"
   ]
  },
  {
   "cell_type": "code",
   "execution_count": 24,
   "metadata": {},
   "outputs": [
    {
     "data": {
      "text/plain": [
       "<AxesSubplot:xlabel='experience_growth', ylabel='Count'>"
      ]
     },
     "execution_count": 24,
     "metadata": {},
     "output_type": "execute_result"
    },
    {
     "data": {
      "image/png": "[encoded data removed]",
      "text/plain": [
       "<Figure size 842.4x432 with 1 Axes>"
      ]
     },
     "metadata": {
      "needs_background": "light"
     },
     "output_type": "display_data"
    }
   ],
   "source": [
    "a4_dims = (11.7, 6)\n",
    "fig, ax = pyplot.subplots(figsize=a4_dims)\n",
    "\n",
    "sns.histplot(ax=ax, data=df['experience_growth'], bins=30)"
   ]
  },
  {
   "cell_type": "markdown",
   "metadata": {},
   "source": [
    "Binning these values into 3 Objects:\n",
    "<br>\n",
    "We choose to bin into these 3 Objects as values 600,000 and 1,640,000 have concerningly few occurences."
   ]
  },
  {
   "cell_type": "code",
   "execution_count": 25,
   "metadata": {},
   "outputs": [],
   "source": [
    "def impute_exp_growth(cols):\n",
    "    exp = cols[0]\n",
    "    \n",
    "    if exp < 1000000  :\n",
    "        return \"<1M\"\n",
    "    elif exp >=1250000:\n",
    "        return \">=1.25M\"\n",
    "    else:\n",
    "        return \"1M-1.25M\""
   ]
  },
  {
   "cell_type": "markdown",
   "metadata": {},
   "source": [
    "Applying above function:"
   ]
  },
  {
   "cell_type": "code",
   "execution_count": 26,
   "metadata": {},
   "outputs": [],
   "source": [
    "df['experience_growth'] = df[['experience_growth']].apply(impute_exp_growth, axis=1)"
   ]
  },
  {
   "cell_type": "markdown",
   "metadata": {},
   "source": [
    "Converting these objects to type Category, then ordering the categories:"
   ]
  },
  {
   "cell_type": "code",
   "execution_count": 27,
   "metadata": {},
   "outputs": [
    {
     "data": {
      "text/plain": [
       "CategoricalDtype(categories=['<1M', '1M-1.25M', '>=1.25M'], ordered=True)"
      ]
     },
     "execution_count": 27,
     "metadata": {},
     "output_type": "execute_result"
    }
   ],
   "source": [
    "df['experience_growth'] = df['experience_growth'].astype('category')\n",
    "\n",
    "df['experience_growth'] = df['experience_growth'].cat.reorder_categories(['<1M', '1M-1.25M', '>=1.25M'], ordered=True)\n",
    "df['experience_growth'].dtypes"
   ]
  },
  {
   "cell_type": "markdown",
   "metadata": {},
   "source": [
    "Checking out the final categorized and ordered result:"
   ]
  },
  {
   "cell_type": "code",
   "execution_count": 28,
   "metadata": {},
   "outputs": [
    {
     "data": {
      "text/plain": [
       "1M-1.25M    247\n",
       ">=1.25M      61\n",
       "<1M          46\n",
       "Name: experience_growth, dtype: int64"
      ]
     },
     "execution_count": 28,
     "metadata": {},
     "output_type": "execute_result"
    }
   ],
   "source": [
    "df['experience_growth'].value_counts()"
   ]
  },
  {
   "cell_type": "markdown",
   "metadata": {},
   "source": [
    "<br>"
   ]
  },
  {
   "cell_type": "markdown",
   "metadata": {},
   "source": [
    "#### base_happiness\n",
    "There are 5 unique integer base_happiness values:"
   ]
  },
  {
   "cell_type": "code",
   "execution_count": 29,
   "metadata": {},
   "outputs": [
    {
     "data": {
      "text/plain": [
       "array([ 70, 140,  35, 100,   0], dtype=int64)"
      ]
     },
     "execution_count": 29,
     "metadata": {},
     "output_type": "execute_result"
    }
   ],
   "source": [
    "df['base_happiness'].unique()"
   ]
  },
  {
   "cell_type": "code",
   "execution_count": 30,
   "metadata": {},
   "outputs": [
    {
     "data": {
      "text/plain": [
       "70     325\n",
       "35      23\n",
       "140      3\n",
       "100      2\n",
       "0        1\n",
       "Name: base_happiness, dtype: int64"
      ]
     },
     "execution_count": 30,
     "metadata": {},
     "output_type": "execute_result"
    }
   ],
   "source": [
    "df['base_happiness'].value_counts()"
   ]
  },
  {
   "cell_type": "markdown",
   "metadata": {},
   "source": [
    "Looking at base_happiness distribution:"
   ]
  },
  {
   "cell_type": "code",
   "execution_count": 31,
   "metadata": {},
   "outputs": [
    {
     "data": {
      "text/plain": [
       "<AxesSubplot:xlabel='base_happiness', ylabel='Count'>"
      ]
     },
     "execution_count": 31,
     "metadata": {},
     "output_type": "execute_result"
    },
    {
     "data": {
      "image/png": "[encoded data removed]",
      "text/plain": [
       "<Figure size 842.4x432 with 1 Axes>"
      ]
     },
     "metadata": {
      "needs_background": "light"
     },
     "output_type": "display_data"
    }
   ],
   "source": [
    "fig, ax = pyplot.subplots(figsize=(11.7, 6))\n",
    "\n",
    "sns.histplot(ax=ax, data=df['base_happiness'], bins=30)"
   ]
  },
  {
   "cell_type": "markdown",
   "metadata": {},
   "source": [
    "Categorizing base_happiness values into 2 factors (objects):\n",
    "We choose to bin into these two categories as there are too few occurences for values besides '70' and '35',\n",
    "and if were to include a bin of \">70\" by itself, the values in that bin would be too few as well."
   ]
  },
  {
   "cell_type": "code",
   "execution_count": 32,
   "metadata": {},
   "outputs": [],
   "source": [
    "def impute_base_happiness(cols):\n",
    "    happy = cols[0]\n",
    "    \n",
    "    if happy < 70:\n",
    "        return \"<70\"\n",
    "    else:\n",
    "        return \">=70\""
   ]
  },
  {
   "cell_type": "markdown",
   "metadata": {},
   "source": [
    "Applying above function:"
   ]
  },
  {
   "cell_type": "code",
   "execution_count": 33,
   "metadata": {},
   "outputs": [],
   "source": [
    "df['base_happiness'] = df[['base_happiness']].apply(impute_base_happiness, axis=1)"
   ]
  },
  {
   "cell_type": "markdown",
   "metadata": {},
   "source": [
    "Converting base_happiness Objects to Categorical variables, then ordering categories:"
   ]
  },
  {
   "cell_type": "code",
   "execution_count": 34,
   "metadata": {},
   "outputs": [
    {
     "data": {
      "text/plain": [
       "CategoricalDtype(categories=['<70', '>=70'], ordered=True)"
      ]
     },
     "execution_count": 34,
     "metadata": {},
     "output_type": "execute_result"
    }
   ],
   "source": [
    "df['base_happiness'] = df['base_happiness'].astype('category')\n",
    "\n",
    "df['base_happiness'] = df['base_happiness'].cat.reorder_categories(['<70','>=70'], ordered=True)\n",
    "df['base_happiness'].dtypes"
   ]
  },
  {
   "cell_type": "markdown",
   "metadata": {},
   "source": [
    "___\n",
    "### STEP 3.2: Converting disrete numeric features and object features to continous numeric"
   ]
  },
  {
   "cell_type": "markdown",
   "metadata": {},
   "source": [
    "#### base_egg_steps"
   ]
  },
  {
   "cell_type": "code",
   "execution_count": 35,
   "metadata": {},
   "outputs": [
    {
     "data": {
      "text/plain": [
       "dtype('int64')"
      ]
     },
     "execution_count": 35,
     "metadata": {},
     "output_type": "execute_result"
    }
   ],
   "source": [
    "df['base_egg_steps'].dtypes"
   ]
  },
  {
   "cell_type": "code",
   "execution_count": 36,
   "metadata": {},
   "outputs": [
    {
     "data": {
      "text/plain": [
       "5120     212\n",
       "3840      59\n",
       "6400      35\n",
       "10240     20\n",
       "7680      14\n",
       "2560      10\n",
       "8960       3\n",
       "1280       1\n",
       "Name: base_egg_steps, dtype: int64"
      ]
     },
     "execution_count": 36,
     "metadata": {},
     "output_type": "execute_result"
    }
   ],
   "source": [
    "df['base_egg_steps'].value_counts()"
   ]
  },
  {
   "cell_type": "markdown",
   "metadata": {},
   "source": [
    "We choose to bin all base_egg_steps values into these categories as there are too few occurences for values '1280' and '8960':"
   ]
  },
  {
   "cell_type": "code",
   "execution_count": 37,
   "metadata": {},
   "outputs": [],
   "source": [
    "def bin_egg_steps(cols):\n",
    "    egg_steps = cols[0]\n",
    "    \n",
    "    if egg_steps <= 3840:\n",
    "        return \"<=3840\"\n",
    "    if egg_steps == 5120:\n",
    "        return \"5120\"\n",
    "    if egg_steps == 6400:\n",
    "        return \"6400\"\n",
    "    if egg_steps >= 7680:\n",
    "        return \">=7680\""
   ]
  },
  {
   "cell_type": "markdown",
   "metadata": {},
   "source": [
    "Applying above function:"
   ]
  },
  {
   "cell_type": "code",
   "execution_count": 38,
   "metadata": {},
   "outputs": [],
   "source": [
    "df['base_egg_steps'] = df[['base_egg_steps']].apply(bin_egg_steps, axis=1)"
   ]
  },
  {
   "cell_type": "markdown",
   "metadata": {},
   "source": [
    "Converting base_happiness Objects to Categorical variables, then ordering the categories:"
   ]
  },
  {
   "cell_type": "code",
   "execution_count": 39,
   "metadata": {},
   "outputs": [
    {
     "data": {
      "text/plain": [
       "CategoricalDtype(categories=['<=3840', '5120', '6400', '>=7680'], ordered=True)"
      ]
     },
     "execution_count": 39,
     "metadata": {},
     "output_type": "execute_result"
    }
   ],
   "source": [
    "df['base_egg_steps'] = df['base_egg_steps'].astype('category')\n",
    "\n",
    "df['base_egg_steps'] = df['base_egg_steps'].cat.reorder_categories(['<=3840','5120','6400','>=7680'], ordered=True)\n",
    "df['base_egg_steps'].dtypes"
   ]
  },
  {
   "cell_type": "markdown",
   "metadata": {},
   "source": [
    "Show new distribution of base_egg_steps:"
   ]
  },
  {
   "cell_type": "code",
   "execution_count": 40,
   "metadata": {},
   "outputs": [
    {
     "data": {
      "text/plain": [
       "<AxesSubplot:xlabel='base_egg_steps', ylabel='Count'>"
      ]
     },
     "execution_count": 40,
     "metadata": {},
     "output_type": "execute_result"
    },
    {
     "data": {
      "image/png": "[encoded data removed]",
      "text/plain": [
       "<Figure size 842.4x432 with 1 Axes>"
      ]
     },
     "metadata": {
      "needs_background": "light"
     },
     "output_type": "display_data"
    }
   ],
   "source": [
    "a4_dims = (11.7, 6)\n",
    "fig, ax = pyplot.subplots(figsize=a4_dims)\n",
    "\n",
    "sns.histplot(ax=ax, data=df['base_egg_steps'], bins=30)"
   ]
  },
  {
   "cell_type": "markdown",
   "metadata": {},
   "source": [
    "<br>"
   ]
  },
  {
   "cell_type": "markdown",
   "metadata": {},
   "source": [
    "#### capture_rate\n",
    "Converting capture_rate from type Object to Float:"
   ]
  },
  {
   "cell_type": "code",
   "execution_count": 41,
   "metadata": {},
   "outputs": [],
   "source": [
    "df['capture_rate'] = pd.to_numeric(df['capture_rate'],errors='coerce')"
   ]
  },
  {
   "cell_type": "code",
   "execution_count": 42,
   "metadata": {},
   "outputs": [
    {
     "data": {
      "text/html": [
       "<div>\n",
       "<style scoped>\n",
       "    .dataframe tbody tr th:only-of-type {\n",
       "        vertical-align: middle;\n",
       "    }\n",
       "\n",
       "    .dataframe tbody tr th {\n",
       "        vertical-align: top;\n",
       "    }\n",
       "\n",
       "    .dataframe thead th {\n",
       "        text-align: right;\n",
       "    }\n",
       "</style>\n",
       "<table border=\"1\" class=\"dataframe\">\n",
       "  <thead>\n",
       "    <tr style=\"text-align: right;\">\n",
       "      <th></th>\n",
       "      <th>capture_rate</th>\n",
       "    </tr>\n",
       "  </thead>\n",
       "  <tbody>\n",
       "    <tr>\n",
       "      <th>count</th>\n",
       "      <td>353.000000</td>\n",
       "    </tr>\n",
       "    <tr>\n",
       "      <th>mean</th>\n",
       "      <td>149.385269</td>\n",
       "    </tr>\n",
       "    <tr>\n",
       "      <th>std</th>\n",
       "      <td>81.695902</td>\n",
       "    </tr>\n",
       "    <tr>\n",
       "      <th>min</th>\n",
       "      <td>3.000000</td>\n",
       "    </tr>\n",
       "    <tr>\n",
       "      <th>25%</th>\n",
       "      <td>45.000000</td>\n",
       "    </tr>\n",
       "    <tr>\n",
       "      <th>50%</th>\n",
       "      <td>190.000000</td>\n",
       "    </tr>\n",
       "    <tr>\n",
       "      <th>75%</th>\n",
       "      <td>220.000000</td>\n",
       "    </tr>\n",
       "    <tr>\n",
       "      <th>max</th>\n",
       "      <td>255.000000</td>\n",
       "    </tr>\n",
       "  </tbody>\n",
       "</table>\n",
       "</div>"
      ],
      "text/plain": [
       "       capture_rate\n",
       "count    353.000000\n",
       "mean     149.385269\n",
       "std       81.695902\n",
       "min        3.000000\n",
       "25%       45.000000\n",
       "50%      190.000000\n",
       "75%      220.000000\n",
       "max      255.000000"
      ]
     },
     "execution_count": 42,
     "metadata": {},
     "output_type": "execute_result"
    }
   ],
   "source": [
    "df[['capture_rate']].describe()"
   ]
  },
  {
   "cell_type": "markdown",
   "metadata": {},
   "source": [
    "Show distribution of capture_rate:"
   ]
  },
  {
   "cell_type": "code",
   "execution_count": 43,
   "metadata": {},
   "outputs": [
    {
     "data": {
      "text/plain": [
       "<AxesSubplot:xlabel='capture_rate', ylabel='Count'>"
      ]
     },
     "execution_count": 43,
     "metadata": {},
     "output_type": "execute_result"
    },
    {
     "data": {
      "image/png": "[encoded data removed]",
      "text/plain": [
       "<Figure size 720x360 with 1 Axes>"
      ]
     },
     "metadata": {
      "needs_background": "light"
     },
     "output_type": "display_data"
    }
   ],
   "source": [
    "fig, ax = pyplot.subplots(figsize=(10,5))\n",
    "\n",
    "sns.histplot(ax=ax, data=df['capture_rate'], bins=30)"
   ]
  },
  {
   "cell_type": "markdown",
   "metadata": {},
   "source": [
    "Viewing and handling NA values (1 in total):"
   ]
  },
  {
   "cell_type": "code",
   "execution_count": 44,
   "metadata": {},
   "outputs": [
    {
     "data": {
      "text/plain": [
       "1"
      ]
     },
     "execution_count": 44,
     "metadata": {},
     "output_type": "execute_result"
    }
   ],
   "source": [
    "df['capture_rate'].isna().sum()"
   ]
  },
  {
   "cell_type": "code",
   "execution_count": 58,
   "metadata": {},
   "outputs": [
    {
     "data": {
      "text/html": [
       "<div>\n",
       "<style scoped>\n",
       "    .dataframe tbody tr th:only-of-type {\n",
       "        vertical-align: middle;\n",
       "    }\n",
       "\n",
       "    .dataframe tbody tr th {\n",
       "        vertical-align: top;\n",
       "    }\n",
       "\n",
       "    .dataframe thead th {\n",
       "        text-align: right;\n",
       "    }\n",
       "</style>\n",
       "<table border=\"1\" class=\"dataframe\">\n",
       "  <thead>\n",
       "    <tr style=\"text-align: right;\">\n",
       "      <th></th>\n",
       "      <th>abilities</th>\n",
       "      <th>against_bug</th>\n",
       "      <th>against_dark</th>\n",
       "      <th>against_dragon</th>\n",
       "      <th>against_electric</th>\n",
       "      <th>against_fairy</th>\n",
       "      <th>against_fighting</th>\n",
       "      <th>against_fire</th>\n",
       "      <th>against_flying</th>\n",
       "      <th>against_ghost</th>\n",
       "      <th>against_grass</th>\n",
       "      <th>against_ground</th>\n",
       "      <th>against_ice</th>\n",
       "      <th>against_normal</th>\n",
       "      <th>against_poison</th>\n",
       "      <th>against_psychic</th>\n",
       "      <th>against_rock</th>\n",
       "      <th>against_steel</th>\n",
       "      <th>against_water</th>\n",
       "      <th>attack</th>\n",
       "      <th>base_egg_steps</th>\n",
       "      <th>base_happiness</th>\n",
       "      <th>base_total</th>\n",
       "      <th>capture_rate</th>\n",
       "      <th>classfication</th>\n",
       "      <th>defense</th>\n",
       "      <th>experience_growth</th>\n",
       "      <th>height_m</th>\n",
       "      <th>hp</th>\n",
       "      <th>japanese_name</th>\n",
       "      <th>name</th>\n",
       "      <th>percentage_male</th>\n",
       "      <th>pokedex_number</th>\n",
       "      <th>sp_attack</th>\n",
       "      <th>sp_defense</th>\n",
       "      <th>speed</th>\n",
       "      <th>weight_kg</th>\n",
       "      <th>generation</th>\n",
       "      <th>is_fire_type</th>\n",
       "      <th>is_water_type</th>\n",
       "      <th>is_grass_type</th>\n",
       "      <th>is_electric_type</th>\n",
       "      <th>is_ground_type</th>\n",
       "      <th>is_bug_type</th>\n",
       "      <th>is_normal_type</th>\n",
       "      <th>is_ice_type</th>\n",
       "      <th>is_flying_type</th>\n",
       "      <th>is_poison_type</th>\n",
       "      <th>is_fighting_type</th>\n",
       "      <th>is_rock_type</th>\n",
       "      <th>is_steel_type</th>\n",
       "      <th>is_fairy_type</th>\n",
       "      <th>is_dark_type</th>\n",
       "      <th>is_ghost_type</th>\n",
       "      <th>is_dragon_type</th>\n",
       "      <th>is_psychic_type</th>\n",
       "      <th>pure_type</th>\n",
       "    </tr>\n",
       "  </thead>\n",
       "  <tbody>\n",
       "  </tbody>\n",
       "</table>\n",
       "</div>"
      ],
      "text/plain": [
       "Empty DataFrame\n",
       "Columns: [abilities, against_bug, against_dark, against_dragon, against_electric, against_fairy, against_fighting, against_fire, against_flying, against_ghost, against_grass, against_ground, against_ice, against_normal, against_poison, against_psychic, against_rock, against_steel, against_water, attack, base_egg_steps, base_happiness, base_total, capture_rate, classfication, defense, experience_growth, height_m, hp, japanese_name, name, percentage_male, pokedex_number, sp_attack, sp_defense, speed, weight_kg, generation, is_fire_type, is_water_type, is_grass_type, is_electric_type, is_ground_type, is_bug_type, is_normal_type, is_ice_type, is_flying_type, is_poison_type, is_fighting_type, is_rock_type, is_steel_type, is_fairy_type, is_dark_type, is_ghost_type, is_dragon_type, is_psychic_type, pure_type]\n",
       "Index: []"
      ]
     },
     "execution_count": 58,
     "metadata": {},
     "output_type": "execute_result"
    }
   ],
   "source": [
    "df['capture_rate'] = df['capture_rate'].fillna(0)\n",
    "df.loc[df['capture_rate'] == 0]"
   ]
  },
  {
   "cell_type": "markdown",
   "metadata": {},
   "source": [
    "Pokemon Minior originally has capture_rate NA value because it is a special case (comes in two capture_rate values), which we can ignore, since it is only one observation.\n",
    "So we will remove this data point next."
   ]
  },
  {
   "cell_type": "code",
   "execution_count": 59,
   "metadata": {},
   "outputs": [
    {
     "data": {
      "text/plain": [
       "0"
      ]
     },
     "execution_count": 59,
     "metadata": {},
     "output_type": "execute_result"
    }
   ],
   "source": [
    "df = df[df.capture_rate != 0]\n",
    "df['capture_rate'].isna().sum()"
   ]
  },
  {
   "cell_type": "markdown",
   "metadata": {},
   "source": [
    "<br>"
   ]
  },
  {
   "cell_type": "markdown",
   "metadata": {},
   "source": [
    "#### height_m and weight_kg\n",
    "Converting height_m and weight_kg from Objects to Floats:"
   ]
  },
  {
   "cell_type": "code",
   "execution_count": 50,
   "metadata": {},
   "outputs": [],
   "source": [
    "df['height_m'] = pd.to_numeric(df['height_m'],errors='coerce')\n",
    "df['weight_kg'] = pd.to_numeric(df['weight_kg'],errors='coerce')"
   ]
  },
  {
   "cell_type": "markdown",
   "metadata": {},
   "source": [
    "Show distribution of height_m:"
   ]
  },
  {
   "cell_type": "code",
   "execution_count": 51,
   "metadata": {},
   "outputs": [
    {
     "data": {
      "text/plain": [
       "<AxesSubplot:xlabel='height_m', ylabel='Count'>"
      ]
     },
     "execution_count": 51,
     "metadata": {},
     "output_type": "execute_result"
    },
    {
     "data": {
      "image/png": "[encoded data removed]",
      "text/plain": [
       "<Figure size 842.4x432 with 1 Axes>"
      ]
     },
     "metadata": {
      "needs_background": "light"
     },
     "output_type": "display_data"
    }
   ],
   "source": [
    "a4_dims = (11.7, 6)\n",
    "fig, ax = pyplot.subplots(figsize=a4_dims)\n",
    "\n",
    "sns.histplot(ax=ax, data=df['height_m'], bins=30)"
   ]
  },
  {
   "cell_type": "markdown",
   "metadata": {},
   "source": [
    "Show distribution of weight_kg:"
   ]
  },
  {
   "cell_type": "code",
   "execution_count": 52,
   "metadata": {},
   "outputs": [
    {
     "data": {
      "text/plain": [
       "<AxesSubplot:xlabel='weight_kg', ylabel='Count'>"
      ]
     },
     "execution_count": 52,
     "metadata": {},
     "output_type": "execute_result"
    },
    {
     "data": {
      "image/png": "[encoded data removed]",
      "text/plain": [
       "<Figure size 842.4x432 with 1 Axes>"
      ]
     },
     "metadata": {
      "needs_background": "light"
     },
     "output_type": "display_data"
    }
   ],
   "source": [
    "a4_dims = (11.7, 6)\n",
    "fig, ax = pyplot.subplots(figsize=a4_dims)\n",
    "\n",
    "sns.histplot(ax=ax, data=df['weight_kg'], bins=30)"
   ]
  },
  {
   "cell_type": "markdown",
   "metadata": {},
   "source": [
    "<br>"
   ]
  },
  {
   "cell_type": "markdown",
   "metadata": {},
   "source": [
    "___\n",
    "### STEP 4: Splitting and saving data into training and validation sets as .csv files"
   ]
  },
  {
   "cell_type": "code",
   "execution_count": 53,
   "metadata": {},
   "outputs": [],
   "source": [
    "from sklearn.model_selection import train_test_split"
   ]
  },
  {
   "cell_type": "code",
   "execution_count": 54,
   "metadata": {},
   "outputs": [],
   "source": [
    "SEED_VALUE = 99\n",
    "y= df.base_egg_steps\n",
    "x=df.drop('base_egg_steps',axis=1)\n",
    " \n",
    "# splitting:\n",
    "x_train,x_val,y_train,y_val=train_test_split(x,y,test_size=0.25, random_state=SEED_VALUE)"
   ]
  },
  {
   "cell_type": "code",
   "execution_count": 55,
   "metadata": {},
   "outputs": [
    {
     "name": "stderr",
     "output_type": "stream",
     "text": [
      "C:\\Users\\leona\\anaconda3\\lib\\site-packages\\pandas\\core\\indexing.py:1596: SettingWithCopyWarning: \n",
      "A value is trying to be set on a copy of a slice from a DataFrame.\n",
      "Try using .loc[row_indexer,col_indexer] = value instead\n",
      "\n",
      "See the caveats in the documentation: https://pandas.pydata.org/pandas-docs/stable/user_guide/indexing.html#returning-a-view-versus-a-copy\n",
      "  self.obj[key] = _infer_fill_value(value)\n",
      "C:\\Users\\leona\\anaconda3\\lib\\site-packages\\pandas\\core\\indexing.py:1745: SettingWithCopyWarning: \n",
      "A value is trying to be set on a copy of a slice from a DataFrame.\n",
      "Try using .loc[row_indexer,col_indexer] = value instead\n",
      "\n",
      "See the caveats in the documentation: https://pandas.pydata.org/pandas-docs/stable/user_guide/indexing.html#returning-a-view-versus-a-copy\n",
      "  isetter(ilocs[0], value)\n"
     ]
    }
   ],
   "source": [
    "x_train.loc[:, 'base_egg_steps'] = y_train"
   ]
  },
  {
   "cell_type": "code",
   "execution_count": 56,
   "metadata": {},
   "outputs": [],
   "source": [
    "x_val.loc[:, 'base_egg_steps'] = y_val"
   ]
  },
  {
   "cell_type": "code",
   "execution_count": 57,
   "metadata": {},
   "outputs": [],
   "source": [
    "# saving our training set:\n",
    "x_train.to_csv('pokemon_cleaned_trainingset.csv', index=False)\n",
    "\n",
    "# saving our validation set:\n",
    "x_val.to_csv('pokemon_cleaned_validationset.csv', index=False)"
   ]
  }
 ],
 "metadata": {
  "kernelspec": {
   "display_name": "Python 3",
   "language": "python",
   "name": "python3"
  },
  "language_info": {
   "codemirror_mode": {
    "name": "ipython",
    "version": 3
   },
   "file_extension": ".py",
   "mimetype": "text/x-python",
   "name": "python",
   "nbconvert_exporter": "python",
   "pygments_lexer": "ipython3",
   "version": "3.8.5"
  }
 },
 "nbformat": 4,
 "nbformat_minor": 4
}
